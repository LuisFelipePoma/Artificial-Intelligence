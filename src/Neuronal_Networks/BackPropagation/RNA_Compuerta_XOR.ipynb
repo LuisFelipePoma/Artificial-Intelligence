{
  "cells": [
    {
      "cell_type": "markdown",
      "metadata": {
        "id": "kYXQzCe6ao5o"
      },
      "source": [
        "![image.png](data:image/png;base64,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)"
      ]
    },
    {
      "cell_type": "markdown",
      "metadata": {
        "id": "2nbSO0h6ao5r"
      },
      "source": [
        "<h3 align=\"center\">Inteligencia Artificial</h3>"
      ]
    },
    {
      "cell_type": "markdown",
      "metadata": {
        "id": "QLAzIhZIao5s"
      },
      "source": [
        "## **Red Neuronal en Python con Keras y Tensorflow**"
      ]
    },
    {
      "cell_type": "markdown",
      "metadata": {
        "id": "3Ey-QgiQao5t"
      },
      "source": [
        "Crearemos una red neuronal artificial muy sencilla en Python con Keras y Tensorflow para comprender su uso. Implementaremos la compuerta XOR e intentaré comparar las ventajas del aprendizaje automático frente a la programación tradicional."
      ]
    },
    {
      "cell_type": "markdown",
      "metadata": {
        "id": "k-vb8906ao5t"
      },
      "source": [
        "Las compuertas XOR\n",
        "Para el ejemplo, utilizaremos las compuertas XOR. Si no las conoces o no las recuerdas, funcionan de la siguiente manera:\n",
        "\n",
        "Tenemos dos entradas binarias (1 ó 0) y la salida será 1 sólo si una de las entradas es verdadera (1) y la otra falsa (0).\n",
        "\n",
        "Es decir que de cuatro combinaciones posibles, sólo dos tienen salida 1 y las otras dos serán 0, como vemos aquí:\n",
        "\n",
        "* XOR(0,0) = 0\n",
        "* XOR(0,1) = 1\n",
        "* XOR(1,0) = 1\n",
        "* XOR(1,1) = 0"
      ]
    },
    {
      "cell_type": "markdown",
      "metadata": {
        "id": "nEWpTw4xao5u"
      },
      "source": [
        "#### 1. Primero importamos las clases que utilizaremos:"
      ]
    },
    {
      "cell_type": "code",
      "execution_count": null,
      "metadata": {
        "id": "298vJy_zao5v"
      },
      "outputs": [],
      "source": [
        "import numpy as np\n",
        "from keras.models import Sequential\n",
        "from keras.layers import Dense"
      ]
    },
    {
      "cell_type": "markdown",
      "metadata": {
        "id": "WkNIA6C_ao5w"
      },
      "source": [
        "Utilizaremos numpy para el manejo de arrays. De Keras importamos el tipo de modelo Sequential y el tipo de capa Dense que es la “normal”.\n",
        "\n",
        "Creamos los arrays de entrada y salida."
      ]
    },
    {
      "cell_type": "code",
      "execution_count": null,
      "metadata": {
        "id": "qFZ8g0vSao5x"
      },
      "outputs": [],
      "source": [
        "# cargamos las 4 combinaciones de las compuertas XOR\n",
        "training_data = np.array([[0,0],[0,1],[1,0],[1,1]], \"float32\")\n",
        "\n",
        "# y estos son los resultados que se obtienen, en el mismo orden\n",
        "target_data = np.array([[0],[1],[1],[0]], \"float32\")"
      ]
    },
    {
      "cell_type": "markdown",
      "metadata": {
        "id": "2_N6PnaTao5y"
      },
      "source": [
        "Como se puede ver son las cuatro entradas posibles de la función XOR [0,0], [0,1], [1,0],[1,1] y sus cuatro salidas: 0, 1,1,0.\n",
        "\n",
        "Ahora crearemos la arquitectura de nuestra red neuronal:"
      ]
    },
    {
      "cell_type": "markdown",
      "metadata": {
        "id": "RZU6dK2_ao5y"
      },
      "source": [
        "Primero creamos un modelo vació de tipo Sequential. Este modelo se refiere a que crearemos una serie de capas de neuronas secuenciales, “una delante de otra”.\n",
        "\n",
        "Agregamos dos capas Dense con “model.add()”. Realmente serán 3 capas, pues al poner input_dim=2 estamos definiendo la capa de entrada con 2 neuronas (para nuestras entradas de la función XOR) y la primer capa oculta (hidden) de 16 neuronas. Como función de activación utilizaremos “relu” que sabemos que da buenos resultados. Podría ser otra función, esto es un mero ejemplo, y según la implementación de la red que haremos, deberemos variar la cantidad de neuronas, capas y sus funciones de activación.\n",
        "\n",
        "Y agregamos una capa con 1 neurona de salida y función de activación sigmoid."
      ]
    },
    {
      "cell_type": "code",
      "execution_count": null,
      "metadata": {
        "id": "Wj0GpNEwao5y"
      },
      "outputs": [],
      "source": [
        "model = Sequential()\n",
        "model.add(Dense(16, input_dim=2, activation='relu'))\n",
        "model.add(Dense(1, activation='sigmoid'))"
      ]
    },
    {
      "cell_type": "markdown",
      "metadata": {
        "id": "dWpUOy4Pao5z"
      },
      "source": [
        "Antes de de entrenar la red haremos unos ajustes de nuestro modelo:"
      ]
    },
    {
      "cell_type": "code",
      "execution_count": null,
      "metadata": {
        "id": "Bm0QTm6Cao5z"
      },
      "outputs": [],
      "source": [
        "model.compile(loss='mean_squared_error',\n",
        "              optimizer='adam',\n",
        "              metrics=['binary_accuracy'])"
      ]
    },
    {
      "cell_type": "markdown",
      "metadata": {
        "id": "1VvKwTM3ao5z"
      },
      "source": [
        "Con esto indicamos el tipo de pérdida (loss) que utilizaremos, el “optimizador” de los pesos de las conexiones de las neuronas y las métricas que queremos obtener.\n",
        "\n",
        "Ahora sí que entrenaremos la red:"
      ]
    },
    {
      "cell_type": "code",
      "execution_count": null,
      "metadata": {
        "colab": {
          "base_uri": "https://localhost:8080/"
        },
        "id": "SXvcOyC1ao5z",
        "outputId": "b7d150a3-b2cc-49d5-f066-61ccd4d40669"
      },
      "outputs": [],
      "source": [
        "model.fit(training_data, target_data, epochs=1000)"
      ]
    },
    {
      "cell_type": "markdown",
      "metadata": {
        "id": "fbHjzXeOao50"
      },
      "source": [
        "#### **Evaluamos y Predecimos**"
      ]
    },
    {
      "cell_type": "markdown",
      "metadata": {
        "id": "O5amVfbYao50"
      },
      "source": [
        "Primero evaluamos el modelo"
      ]
    },
    {
      "cell_type": "code",
      "execution_count": null,
      "metadata": {
        "colab": {
          "base_uri": "https://localhost:8080/"
        },
        "id": "H333mdzVao50",
        "outputId": "e1ce1cdd-dfa1-4a9a-fe8d-6acecfec7796"
      },
      "outputs": [],
      "source": [
        "# evaluamos el modelo\n",
        "scores = model.evaluate(training_data, target_data)\n",
        "\n",
        "print(\"\\n%s: %.2f%%\" % (model.metrics_names[1], scores[1]*100))\n"
      ]
    },
    {
      "cell_type": "markdown",
      "metadata": {
        "id": "8DHlIiovao50"
      },
      "source": [
        "Y vemos que tuvimos un 100% de precisión (recordemos lo trivial de este ejemplo).\n",
        "\n",
        "Y hacemos las 4 predicciones posibles de XOR, pasando nuestras entradas:"
      ]
    },
    {
      "cell_type": "code",
      "execution_count": null,
      "metadata": {
        "colab": {
          "base_uri": "https://localhost:8080/"
        },
        "id": "LEQOvWqNao50",
        "outputId": "f67c2ef0-c075-4eb2-d8d3-522da22172d6"
      },
      "outputs": [],
      "source": [
        "print (model.predict(training_data).round())"
      ]
    },
    {
      "cell_type": "markdown",
      "metadata": {
        "id": "Hm9c8j4vao51"
      },
      "source": [
        "y vemos las salidas 0,1,1,0 que son las correctas."
      ]
    }
  ],
  "metadata": {
    "colab": {
      "provenance": []
    },
    "kernelspec": {
      "display_name": "Python 3 (ipykernel)",
      "language": "python",
      "name": "python3"
    },
    "language_info": {
      "codemirror_mode": {
        "name": "ipython",
        "version": 3
      },
      "file_extension": ".py",
      "mimetype": "text/x-python",
      "name": "python",
      "nbconvert_exporter": "python",
      "pygments_lexer": "ipython3",
      "version": "3.8.12"
    }
  },
  "nbformat": 4,
  "nbformat_minor": 0
}
