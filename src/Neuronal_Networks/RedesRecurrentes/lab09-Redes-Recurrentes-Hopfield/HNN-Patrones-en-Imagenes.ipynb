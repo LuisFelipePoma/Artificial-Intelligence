{
 "cells": [
  {
   "attachments": {
    "upc_logo.png": {
     "image/png": "[encoded data removed]"
    }
   },
   "cell_type": "markdown",
   "metadata": {},
   "source": [
    "![upc_logo.png](attachment:upc_logo.png)"
   ]
  },
  {
   "cell_type": "markdown",
   "metadata": {},
   "source": [
    "<h3 align=\"center\">Inteligencia Artificial - WS7A</h3>"
   ]
  },
  {
   "cell_type": "markdown",
   "metadata": {},
   "source": [
    "## (3) Redes Recurrentes Hopfield - Reconocimiento de patrones en imágenes"
   ]
  },
  {
   "cell_type": "code",
   "execution_count": 64,
   "metadata": {},
   "outputs": [],
   "source": [
    "import os\n",
    "import numpy as np\n",
    "import imageio\n",
    "import matplotlib\n",
    "from matplotlib import pyplot as plt\n",
    "\n",
    "%matplotlib inline\n",
    "\n",
    "matplotlib.rcParams['figure.figsize'] = (20.0, 10.0)"
   ]
  },
  {
   "cell_type": "code",
   "execution_count": 65,
   "metadata": {},
   "outputs": [
    {
     "name": "stdout",
     "output_type": "stream",
     "text": [
      "4.5.1\n"
     ]
    }
   ],
   "source": [
    "# Instalamos OpenCV para el tratamiento de imagenes\n",
    "# pip install opencv-python\n",
    "# conda install opencv\n",
    "import cv2\n",
    "# Comprobamos la instalacion\n",
    "print (cv2.__version__)"
   ]
  },
  {
   "cell_type": "code",
   "execution_count": 66,
   "metadata": {},
   "outputs": [
    {
     "name": "stdout",
     "output_type": "stream",
     "text": [
      "Shape de la imagen cargada es: (128, 128, 3)\n"
     ]
    }
   ],
   "source": [
    "# Cargamos la imagen con un canal de color de 3 colores\n",
    "img = cv2.imread('deal-with-it-with-text3.jpg', cv2.IMREAD_COLOR) \n",
    "print(\"Shape de la imagen cargada es:\", img.shape)"
   ]
  },
  {
   "cell_type": "code",
   "execution_count": 67,
   "metadata": {},
   "outputs": [
    {
     "name": "stdout",
     "output_type": "stream",
     "text": [
      "Shape de la imagen cargada es: (128, 128)\n"
     ]
    }
   ],
   "source": [
    "# Cargamos la imagen con un canal de color de 2 colores\n",
    "img = cv2.imread('deal-with-it-with-text3.jpg', cv2.IMREAD_GRAYSCALE) \n",
    "print(\"Shape de la imagen cargada es:\", img.shape)"
   ]
  },
  {
   "cell_type": "code",
   "execution_count": 68,
   "metadata": {},
   "outputs": [],
   "source": [
    "# Convertimos la imagen a un arreglo de enteros\n",
    "img = img.astype(int)"
   ]
  },
  {
   "cell_type": "code",
   "execution_count": 69,
   "metadata": {},
   "outputs": [
    {
     "data": {
      "text/plain": [
       "array([  0,   1,   2,   3,   4,   5,   6,   7,   8,   9,  10,  11,  12,\n",
       "        13,  14,  15,  16,  17,  18,  19,  20,  21,  22,  23,  24,  25,\n",
       "        26,  27,  28,  29,  30,  31,  32,  33,  34,  35,  36,  37,  38,\n",
       "        39,  40,  41,  42,  43,  44,  45,  46,  47,  48,  49,  50,  51,\n",
       "        52,  53,  55,  56,  58,  59,  60,  61,  62,  63,  64,  65,  66,\n",
       "        67,  68,  69,  70,  71,  72,  73,  74,  75,  76,  77,  78,  79,\n",
       "        80,  81,  82,  83,  84,  85,  86,  87,  88,  89,  90,  91,  92,\n",
       "        93,  94,  95,  96,  97,  98,  99, 100, 101, 102, 103, 104, 105,\n",
       "       106, 107, 108, 109, 110, 111, 112, 113, 114, 115, 116, 117, 118,\n",
       "       119, 120, 121, 122, 123, 124, 125, 126, 127, 128, 129, 130, 131,\n",
       "       132, 133, 134, 135, 136, 137, 138, 139, 140, 141, 142, 143, 144,\n",
       "       146, 147, 148, 149, 150, 151, 152, 153, 154, 155, 156, 158, 159,\n",
       "       160, 161, 162, 163, 164, 165, 166, 167, 168, 169, 170, 171, 172,\n",
       "       174, 175, 176, 177, 178, 179, 180, 181, 182, 183, 184, 185, 186,\n",
       "       187, 188, 189, 190, 191, 192, 193, 194, 195, 196, 197, 198, 199,\n",
       "       200, 201, 202, 203, 204, 205, 206, 207, 208, 209, 210, 211, 212,\n",
       "       213, 214, 215, 216, 217, 218, 219, 220, 221, 222, 223, 224, 225,\n",
       "       226, 227, 228, 229, 230, 231, 232, 233, 234, 235, 236, 237, 238,\n",
       "       239, 240, 241, 242, 243, 244, 245, 246, 247, 248, 249, 250, 251,\n",
       "       252, 253, 254, 255])"
      ]
     },
     "execution_count": 69,
     "metadata": {},
     "output_type": "execute_result"
    }
   ],
   "source": [
    "np.unique(img)"
   ]
  },
  {
   "cell_type": "markdown",
   "metadata": {},
   "source": [
    "Para convertir esto en una imagen de 1 bit, convierto todo lo más oscuro que algún umbral a negro (1) y todo lo demás a blanco (-1). Experimentando un poco con la imagen particular del 'meme de lidiar con eso' que tengo, un umbral de 80 parecía funcionar razonablemente. La imagen resultante todavía es un poco tosca en los bordes, pero es reconocible."
   ]
  },
  {
   "cell_type": "code",
   "execution_count": 70,
   "metadata": {},
   "outputs": [
    {
     "data": {
      "text/plain": [
       "array([[-1, -1, -1, ..., -1, -1, -1],\n",
       "       [-1, -1, -1, ..., -1, -1, -1],\n",
       "       [-1, -1, -1, ..., -1, -1, -1],\n",
       "       ...,\n",
       "       [-1, -1, -1, ..., -1, -1, -1],\n",
       "       [-1, -1, -1, ..., -1, -1, -1],\n",
       "       [-1, -1, -1, ..., -1, -1, -1]])"
      ]
     },
     "execution_count": 70,
     "metadata": {},
     "output_type": "execute_result"
    }
   ],
   "source": [
    "bvw_threshold = 80\n",
    "\n",
    "img[img <= bvw_threshold] = -1\n",
    "img[img >  bvw_threshold] = 1\n",
    "img = -img\n",
    "img"
   ]
  },
  {
   "cell_type": "code",
   "execution_count": 71,
   "metadata": {},
   "outputs": [
    {
     "data": {
      "text/plain": [
       "array([-1,  1])"
      ]
     },
     "execution_count": 71,
     "metadata": {},
     "output_type": "execute_result"
    }
   ],
   "source": [
    "np.unique(img)"
   ]
  },
  {
   "cell_type": "code",
   "execution_count": 72,
   "metadata": {},
   "outputs": [
    {
     "data": {
      "image/png": "[encoded data removed]",
      "text/plain": [
       "<Figure size 1440x720 with 1 Axes>"
      ]
     },
     "metadata": {
      "needs_background": "light"
     },
     "output_type": "display_data"
    }
   ],
   "source": [
    "plt.imshow(img, cmap='Greys', interpolation='nearest')\n",
    "plt.show()"
   ]
  },
  {
   "cell_type": "markdown",
   "metadata": {},
   "source": [
    "Ahora calcularemos los pesos. Por ahora, usaremos la regla de aprendizaje de Hebb, según la cual dos unidades tienen un peso positivo (+1) si su activación es la misma, y un peso negativo (-1) si sus activaciones son diferentes. También estipulamos que una neurona no tiene peso consigo misma."
   ]
  },
  {
   "cell_type": "code",
   "execution_count": 73,
   "metadata": {},
   "outputs": [
    {
     "data": {
      "text/plain": [
       "(16384,)"
      ]
     },
     "execution_count": 73,
     "metadata": {},
     "output_type": "execute_result"
    }
   ],
   "source": [
    "flattened_img = img.flatten()\n",
    "flattened_img.shape"
   ]
  },
  {
   "cell_type": "markdown",
   "metadata": {},
   "source": [
    "Esta siguiente celda puede tardar un poco si la imagen es grande ..."
   ]
  },
  {
   "cell_type": "code",
   "execution_count": 74,
   "metadata": {},
   "outputs": [
    {
     "data": {
      "text/plain": [
       "array([[0., 1., 1., 1., 1.],\n",
       "       [1., 0., 1., 1., 1.],\n",
       "       [1., 1., 0., 1., 1.],\n",
       "       [1., 1., 1., 0., 1.],\n",
       "       [1., 1., 1., 1., 0.]])"
      ]
     },
     "execution_count": 74,
     "metadata": {},
     "output_type": "execute_result"
    }
   ],
   "source": [
    "flatlen = len(flattened_img)\n",
    "\n",
    "img_weights = np.outer(flattened_img,flattened_img) - np.identity(len(flattened_img))\n",
    "img_weights[:5,:5]"
   ]
  },
  {
   "cell_type": "markdown",
   "metadata": {},
   "source": [
    "Ahora comience con una versión ruidosa de la imagen. Simplemente voltearemos una cierta cantidad de píxeles aleatorios en cada fila de la imagen."
   ]
  },
  {
   "cell_type": "code",
   "execution_count": 75,
   "metadata": {},
   "outputs": [],
   "source": [
    "def noisify(pattern, numb_flipped=30):\n",
    "\n",
    "    noisy_pattern = pattern.copy()\n",
    "\n",
    "    for idx, row in enumerate(noisy_pattern):\n",
    "        choices = np.random.choice(range(len(row)), numb_flipped)\n",
    "        noisy_pattern[idx,choices] = -noisy_pattern[idx,choices]\n",
    "        \n",
    "    return noisy_pattern\n",
    "\n",
    "noisy_img = noisify(pattern=img)"
   ]
  },
  {
   "cell_type": "code",
   "execution_count": 76,
   "metadata": {},
   "outputs": [
    {
     "data": {
      "image/png": "[encoded data removed]",
      "text/plain": [
       "<Figure size 1440x720 with 1 Axes>"
      ]
     },
     "metadata": {
      "needs_background": "light"
     },
     "output_type": "display_data"
    }
   ],
   "source": [
    "plt.imshow(noisy_img, cmap='Greys', interpolation='nearest')\n",
    "plt.show()"
   ]
  },
  {
   "cell_type": "markdown",
   "metadata": {},
   "source": [
    "Ahora podemos comenzar con eso y usar los pesos para actualizarlo. Actualizaremos las unidades de forma asincrónica (una a la vez).\n",
    "\n",
    "Mientras actualizamos las unidades, hagamos un seguimiento de la energía en la red:"
   ]
  },
  {
   "attachments": {
    "energia-ecuacion.svg": {
     "image/svg+xml": [
      "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"
     ]
    }
   },
   "cell_type": "markdown",
   "metadata": {},
   "source": [
    "![energia-ecuacion.svg](attachment:energia-ecuacion.svg)"
   ]
  },
  {
   "cell_type": "markdown",
   "metadata": {},
   "source": [
    "La actualización de las activaciones de las unidades hace que la red se mueva hacia un mínimo local en esa función. Dicho de manera más informal, la actualización de las unidades pone a la red en un estado más \"relajado\".\n",
    "\n",
    "Matemática de matriz numérica eficiente para calcular la energía extraída de aquí: https://codeaffectionate.blogspot.com/2013/05/fun-with-hopfield-and-numpy.html"
   ]
  },
  {
   "cell_type": "code",
   "execution_count": 77,
   "metadata": {},
   "outputs": [],
   "source": [
    "def flow(pattern, weights, theta=0, steps = 50000):\n",
    "    \n",
    "    pattern_flat = pattern.flatten()\n",
    "    \n",
    "    if (type(theta) == float) or (type(theta) == int):\n",
    "        thetas = np.zeros(len(pattern_flat)) + theta\n",
    "\n",
    "    for step in range(steps):\n",
    "        unit = np.random.randint(low=0, high=(len(pattern_flat)-1))\n",
    "        unit_weights = weights[unit,:]\n",
    "        net_input = np.dot(unit_weights,pattern_flat)\n",
    "        pattern_flat[unit] = 1 if (net_input > thetas[unit]) else -1\n",
    "        \n",
    "        if (step % 10000) == 0:\n",
    "            energy = -0.5*np.dot(np.dot(pattern_flat.T,weights),pattern_flat) + np.dot(thetas,pattern_flat)\n",
    "            print(\"Energy at step {:05d} is now {}\".format(step,energy))\n",
    "            \n",
    "    evolved_pattern = np.reshape(a=pattern_flat, newshape=(pattern.shape[0],pattern.shape[1]))\n",
    "    \n",
    "    return evolved_pattern"
   ]
  },
  {
   "cell_type": "code",
   "execution_count": 78,
   "metadata": {},
   "outputs": [
    {
     "name": "stdout",
     "output_type": "stream",
     "text": [
      "Energy at step 00000 is now -45059826.0\n",
      "Energy at step 10000 is now -80636808.0\n",
      "Energy at step 20000 is now -102752256.0\n",
      "Energy at step 30000 is now -115876896.0\n",
      "Energy at step 40000 is now -124306720.0\n"
     ]
    }
   ],
   "source": [
    "steps = 50000\n",
    "theta = 0\n",
    "\n",
    "noisy_img_evolved = flow(noisy_img, img_weights, theta = theta, steps = steps)"
   ]
  },
  {
   "cell_type": "markdown",
   "metadata": {},
   "source": [
    "Como era de esperar, la energía disminuye a medida que se actualizan las activaciones de las unidades. Ahora visualicemos el patrón \"evolucionado\"."
   ]
  },
  {
   "cell_type": "code",
   "execution_count": 79,
   "metadata": {},
   "outputs": [
    {
     "data": {
      "image/png": "[encoded data removed]",
      "text/plain": [
       "<Figure size 1440x720 with 1 Axes>"
      ]
     },
     "metadata": {
      "needs_background": "light"
     },
     "output_type": "display_data"
    }
   ],
   "source": [
    "plt.imshow(noisy_img_evolved, cmap='Greys', interpolation='nearest')\n",
    "plt.show()"
   ]
  },
  {
   "cell_type": "markdown",
   "metadata": {},
   "source": [
    "**Buen trabajo!.**\n",
    "Ahora probar este código con otra imagen."
   ]
  }
 ],
 "metadata": {
  "kernelspec": {
   "display_name": "Python 3",
   "language": "python",
   "name": "python3"
  },
  "language_info": {
   "codemirror_mode": {
    "name": "ipython",
    "version": 3
   },
   "file_extension": ".py",
   "mimetype": "text/x-python",
   "name": "python",
   "nbconvert_exporter": "python",
   "pygments_lexer": "ipython3",
   "version": "3.8.5"
  }
 },
 "nbformat": 4,
 "nbformat_minor": 4
}
