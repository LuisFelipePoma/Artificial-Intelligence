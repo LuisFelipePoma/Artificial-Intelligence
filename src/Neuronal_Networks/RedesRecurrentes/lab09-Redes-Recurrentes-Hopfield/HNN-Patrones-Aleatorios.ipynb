{
 "cells": [
  {
   "attachments": {
    "upc_logo.png": {
     "image/png": "[encoded data removed]"
    }
   },
   "cell_type": "markdown",
   "metadata": {},
   "source": [
    "![upc_logo.png](attachment:upc_logo.png)"
   ]
  },
  {
   "cell_type": "markdown",
   "metadata": {},
   "source": [
    "<h3 align=\"center\">Inteligencia Artificial - WS7A</h3>"
   ]
  },
  {
   "cell_type": "markdown",
   "metadata": {},
   "source": [
    "## (1) Redes Recurrentes Hopfield - Patrones de entrada aleatorios"
   ]
  },
  {
   "cell_type": "markdown",
   "metadata": {},
   "source": [
    "Las redes de Hopfield se pueden analizar matemáticamente. \n",
    "\n",
    "En este ejercicio de Python nos enfocaremos en la visualización y simulación para desarrollar nuestra intuición sobre la dinámica de Hopfield."
   ]
  },
  {
   "cell_type": "markdown",
   "metadata": {},
   "source": [
    "Se proporciona un par de funciones para crear patrones fácilmente, almacenarlos en la red y visualizar la dinámica de la red. \n",
    "\n",
    "Utilizar los módulos **hopfield_network.network**, **hopfield_network.pattern_tools** y **hopfield_network.plot_tools** para aprender los elementos básicos de esta red."
   ]
  },
  {
   "cell_type": "markdown",
   "metadata": {},
   "source": [
    "Pasos a seguir:\n",
    "\n",
    "* Ejecutar el siguiente código. \n",
    "\n",
    "* Leer los comentarios en línea y consultar la documentación de ser necesario.\n",
    "\n",
    "* Los patrones y los píxeles alterados se eligen al azar. Por lo tanto, el resultado cambia cada vez que ejecuta este código. \n",
    "\n",
    "* Ejecutar varias veces y cambiar algunos parámetros como **nr_patterns** y **nr_of_flips**."
   ]
  },
  {
   "cell_type": "markdown",
   "metadata": {},
   "source": [
    "#### 1. Importar librerias e inicializar patrones de entrada\n",
    "\n",
    "Instalar previamente la libreria neurodynex3\n",
    "\n",
    "pip install neurodynex3"
   ]
  },
  {
   "cell_type": "code",
   "execution_count": null,
   "metadata": {},
   "outputs": [],
   "source": [
    "%matplotlib inline\n",
    "from neurodynex3.hopfield_network import network, pattern_tools, plot_tools\n",
    "\n",
    "pattern_size = 5"
   ]
  },
  {
   "cell_type": "code",
   "execution_count": null,
   "metadata": {},
   "outputs": [],
   "source": [
    "# crea una instancia de la clase HopfieldNetwork\n",
    "hopfield_net = network.HopfieldNetwork(nr_neurons= pattern_size**2)"
   ]
  },
  {
   "cell_type": "code",
   "execution_count": null,
   "metadata": {},
   "outputs": [],
   "source": [
    "# instanciar una fábrica de patrones\n",
    "factory = pattern_tools.PatternFactory(pattern_size, pattern_size)"
   ]
  },
  {
   "cell_type": "code",
   "execution_count": null,
   "metadata": {},
   "outputs": [],
   "source": [
    "# crea un patrón de tablero de ajedrez y agrégalo a la lista de patrones\n",
    "checkerboard = factory.create_checkerboard()\n",
    "pattern_list = [checkerboard]"
   ]
  },
  {
   "cell_type": "code",
   "execution_count": null,
   "metadata": {},
   "outputs": [],
   "source": [
    "# agregue patrones aleatorios a la lista\n",
    "pattern_list.extend(factory.create_random_pattern_list(nr_patterns=3, on_probability=0.5))\n",
    "plot_tools.plot_pattern_list(pattern_list)"
   ]
  },
  {
   "cell_type": "code",
   "execution_count": null,
   "metadata": {},
   "outputs": [],
   "source": [
    "# ¿Qué tan similares son los patrones aleatorios y el tablero de ajedrez? Verifique las superposiciones\n",
    "overlap_matrix = pattern_tools.compute_overlap_matrix(pattern_list)\n",
    "plot_tools.plot_overlap_matrix(overlap_matrix)"
   ]
  },
  {
   "cell_type": "code",
   "execution_count": null,
   "metadata": {},
   "outputs": [],
   "source": [
    "# deje que la red hopfield \"aprenda\" los patrones. Nota: ¡no se almacenan\n",
    "# explícitamente, pero solo se actualizan los pesos de red!\n",
    "hopfield_net.store_patterns(pattern_list)"
   ]
  },
  {
   "cell_type": "code",
   "execution_count": null,
   "metadata": {},
   "outputs": [],
   "source": [
    "# crea una versión ruidosa de un patrón y úsala para inicializar la red\n",
    "noisy_init_state = pattern_tools.flip_n(checkerboard, nr_of_flips=4)\n",
    "hopfield_net.set_state_from_pattern(noisy_init_state)"
   ]
  },
  {
   "cell_type": "code",
   "execution_count": null,
   "metadata": {},
   "outputs": [],
   "source": [
    "# a partir de este estado inicial, deje que la dinámica de la red evolucione.\n",
    "states = hopfield_net.run_with_monitoring(nr_steps=4)"
   ]
  },
  {
   "cell_type": "code",
   "execution_count": null,
   "metadata": {},
   "outputs": [],
   "source": [
    "# cada estado de la red es un vector. \n",
    "# modifíquelo con la misma forma que se utilizó para crear los patrones.\n",
    "states_as_patterns = factory.reshape_patterns(states)"
   ]
  },
  {
   "cell_type": "code",
   "execution_count": null,
   "metadata": {},
   "outputs": [],
   "source": [
    "# trazar los estados de la red\n",
    "plot_tools.plot_state_sequence_and_overlap(states_as_patterns, pattern_list, reference_idx=0, suptitle=\"Network dynamics\")"
   ]
  },
  {
   "cell_type": "markdown",
   "metadata": {},
   "source": [
    "Fuente: https://neuronaldynamics-exercises.readthedocs.io/en/latest/exercises/hopfield-network.html"
   ]
  }
 ],
 "metadata": {
  "kernelspec": {
   "display_name": "Python 3",
   "language": "python",
   "name": "python3"
  },
  "language_info": {
   "codemirror_mode": {
    "name": "ipython",
    "version": 3
   },
   "file_extension": ".py",
   "mimetype": "text/x-python",
   "name": "python",
   "nbconvert_exporter": "python",
   "pygments_lexer": "ipython3",
   "version": "3.8.5"
  }
 },
 "nbformat": 4,
 "nbformat_minor": 4
}
