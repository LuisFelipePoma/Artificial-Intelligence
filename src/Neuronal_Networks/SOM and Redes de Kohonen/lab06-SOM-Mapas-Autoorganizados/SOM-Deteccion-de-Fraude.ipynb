{
 "cells": [
  {
   "attachments": {
    "upc_logo.png": {
     "image/png": "[encoded data removed]"
    }
   },
   "cell_type": "markdown",
   "metadata": {},
   "source": [
    "![upc_logo.png](attachment:upc_logo.png)"
   ]
  },
  {
   "cell_type": "markdown",
   "metadata": {},
   "source": [
    "<h3 align=\"center\">Inteligencia Artificial - WS7A</h3>"
   ]
  },
  {
   "cell_type": "markdown",
   "metadata": {},
   "source": [
    "# Detección de fraude mediante el Mapa de Autoorganización - SOM"
   ]
  },
  {
   "cell_type": "markdown",
   "metadata": {},
   "source": [
    "Fuente de Datos: https://www.kaggle.com/ujjwal9/credit-card-applications\n"
   ]
  },
  {
   "cell_type": "markdown",
   "metadata": {},
   "source": [
    "Según un informe reciente publicado por **Markets & Markets**, el mercado de detección y prevención de fraudes tendrá un valor de 33,19 mil millones de dólares para 2021. Esta es una industria enorme y la demanda de habilidades avanzadas de aprendizaje profundo solo va a crecer.\n",
    "\n",
    "El desafío empresarial aquí consiste en detectar el fraude en las aplicaciones de tarjetas de crédito. Crearemos un **modelo de aprendizaje profundo** para un banco y obtendremos un conjunto de datos que contiene información sobre los clientes que solicitan una tarjeta de crédito avanzada.\n"
   ]
  },
  {
   "cell_type": "markdown",
   "metadata": {},
   "source": [
    "### OBJETIVO\n",
    "\n",
    "Detectar posibles fraudes dentro de las solicitudes para aplicar a una tarjeta de crédito avanzada, presentando al final una lista explícita de aquellos clientes que potencialmente engañaron con sus datos."
   ]
  },
  {
   "cell_type": "markdown",
   "metadata": {},
   "source": [
    "#### Parte 1: Preprocesamiento de datos"
   ]
  },
  {
   "cell_type": "markdown",
   "metadata": {},
   "source": [
    "En primer lugar, importamos la librería **numpy** utilizada para la matriz multidimensional, luego importamos la librería **pandas** utilizada para importar el conjunto de datos y, por último, importamos la librería **matplotlib** utilizada para trazar el gráfico."
   ]
  },
  {
   "cell_type": "code",
   "execution_count": 1,
   "metadata": {},
   "outputs": [],
   "source": [
    "# importar librerias\n",
    "import numpy as np\n",
    "import pandas as pd\n",
    "import matplotlib.pyplot as plt"
   ]
  },
  {
   "cell_type": "markdown",
   "metadata": {},
   "source": [
    "### Descripción del Conjunto de Datos"
   ]
  },
  {
   "cell_type": "markdown",
   "metadata": {},
   "source": [
    "Los datos se encuentran contenidos en el archivo **Credit_Card_applications.csv**.  Este archivo se refiere a datos suministrados en aplicaciones (formularios) para la obtención de tarjetas de crédito. Todos los nombres y valores de los atributos se han cambiado a símbolos sin sentido para proteger la confidencialidad de los datos.\n",
    "Está compuesto por 690 observaciones y 16 columnas o atributos."
   ]
  },
  {
   "cell_type": "code",
   "execution_count": 2,
   "metadata": {},
   "outputs": [],
   "source": [
    "# obtener el conjunto de datos\n",
    "dataset = pd.read_csv('Credit_Card_applications.csv')"
   ]
  },
  {
   "cell_type": "markdown",
   "metadata": {},
   "source": [
    "#### (a) Descripción de los atributos"
   ]
  },
  {
   "cell_type": "markdown",
   "metadata": {},
   "source": [
    "Este conjunto de datos es interesante porque hay una buena combinación de atributos: continuo, nominal con un número reducido de valores y nominal con un número mayor de valores. También hay algunos valores perdidos."
   ]
  },
  {
   "cell_type": "code",
   "execution_count": 3,
   "metadata": {},
   "outputs": [
    {
     "name": "stdout",
     "output_type": "stream",
     "text": [
      "<class 'pandas.core.frame.DataFrame'>\n",
      "RangeIndex: 690 entries, 0 to 689\n",
      "Data columns (total 16 columns):\n",
      " #   Column      Non-Null Count  Dtype  \n",
      "---  ------      --------------  -----  \n",
      " 0   CustomerID  690 non-null    int64  \n",
      " 1   A1          690 non-null    int64  \n",
      " 2   A2          690 non-null    float64\n",
      " 3   A3          690 non-null    float64\n",
      " 4   A4          690 non-null    int64  \n",
      " 5   A5          690 non-null    int64  \n",
      " 6   A6          690 non-null    int64  \n",
      " 7   A7          690 non-null    float64\n",
      " 8   A8          690 non-null    int64  \n",
      " 9   A9          690 non-null    int64  \n",
      " 10  A10         690 non-null    int64  \n",
      " 11  A11         690 non-null    int64  \n",
      " 12  A12         690 non-null    int64  \n",
      " 13  A13         690 non-null    int64  \n",
      " 14  A14         690 non-null    int64  \n",
      " 15  Class       690 non-null    int64  \n",
      "dtypes: float64(3), int64(13)\n",
      "memory usage: 86.4 KB\n"
     ]
    }
   ],
   "source": [
    "# Informacion de los atributos\n",
    "dataset.info()"
   ]
  },
  {
   "cell_type": "code",
   "execution_count": 4,
   "metadata": {},
   "outputs": [
    {
     "data": {
      "text/html": [
       "<div>\n",
       "<style scoped>\n",
       "    .dataframe tbody tr th:only-of-type {\n",
       "        vertical-align: middle;\n",
       "    }\n",
       "\n",
       "    .dataframe tbody tr th {\n",
       "        vertical-align: top;\n",
       "    }\n",
       "\n",
       "    .dataframe thead th {\n",
       "        text-align: right;\n",
       "    }\n",
       "</style>\n",
       "<table border=\"1\" class=\"dataframe\">\n",
       "  <thead>\n",
       "    <tr style=\"text-align: right;\">\n",
       "      <th></th>\n",
       "      <th>CustomerID</th>\n",
       "      <th>A1</th>\n",
       "      <th>A2</th>\n",
       "      <th>A3</th>\n",
       "      <th>A4</th>\n",
       "      <th>A5</th>\n",
       "      <th>A6</th>\n",
       "      <th>A7</th>\n",
       "      <th>A8</th>\n",
       "      <th>A9</th>\n",
       "      <th>A10</th>\n",
       "      <th>A11</th>\n",
       "      <th>A12</th>\n",
       "      <th>A13</th>\n",
       "      <th>A14</th>\n",
       "      <th>Class</th>\n",
       "    </tr>\n",
       "  </thead>\n",
       "  <tbody>\n",
       "    <tr>\n",
       "      <th>0</th>\n",
       "      <td>15776156</td>\n",
       "      <td>1</td>\n",
       "      <td>22.08</td>\n",
       "      <td>11.46</td>\n",
       "      <td>2</td>\n",
       "      <td>4</td>\n",
       "      <td>4</td>\n",
       "      <td>1.585</td>\n",
       "      <td>0</td>\n",
       "      <td>0</td>\n",
       "      <td>0</td>\n",
       "      <td>1</td>\n",
       "      <td>2</td>\n",
       "      <td>100</td>\n",
       "      <td>1213</td>\n",
       "      <td>0</td>\n",
       "    </tr>\n",
       "    <tr>\n",
       "      <th>1</th>\n",
       "      <td>15739548</td>\n",
       "      <td>0</td>\n",
       "      <td>22.67</td>\n",
       "      <td>7.00</td>\n",
       "      <td>2</td>\n",
       "      <td>8</td>\n",
       "      <td>4</td>\n",
       "      <td>0.165</td>\n",
       "      <td>0</td>\n",
       "      <td>0</td>\n",
       "      <td>0</td>\n",
       "      <td>0</td>\n",
       "      <td>2</td>\n",
       "      <td>160</td>\n",
       "      <td>1</td>\n",
       "      <td>0</td>\n",
       "    </tr>\n",
       "    <tr>\n",
       "      <th>2</th>\n",
       "      <td>15662854</td>\n",
       "      <td>0</td>\n",
       "      <td>29.58</td>\n",
       "      <td>1.75</td>\n",
       "      <td>1</td>\n",
       "      <td>4</td>\n",
       "      <td>4</td>\n",
       "      <td>1.250</td>\n",
       "      <td>0</td>\n",
       "      <td>0</td>\n",
       "      <td>0</td>\n",
       "      <td>1</td>\n",
       "      <td>2</td>\n",
       "      <td>280</td>\n",
       "      <td>1</td>\n",
       "      <td>0</td>\n",
       "    </tr>\n",
       "    <tr>\n",
       "      <th>3</th>\n",
       "      <td>15687688</td>\n",
       "      <td>0</td>\n",
       "      <td>21.67</td>\n",
       "      <td>11.50</td>\n",
       "      <td>1</td>\n",
       "      <td>5</td>\n",
       "      <td>3</td>\n",
       "      <td>0.000</td>\n",
       "      <td>1</td>\n",
       "      <td>1</td>\n",
       "      <td>11</td>\n",
       "      <td>1</td>\n",
       "      <td>2</td>\n",
       "      <td>0</td>\n",
       "      <td>1</td>\n",
       "      <td>1</td>\n",
       "    </tr>\n",
       "    <tr>\n",
       "      <th>4</th>\n",
       "      <td>15715750</td>\n",
       "      <td>1</td>\n",
       "      <td>20.17</td>\n",
       "      <td>8.17</td>\n",
       "      <td>2</td>\n",
       "      <td>6</td>\n",
       "      <td>4</td>\n",
       "      <td>1.960</td>\n",
       "      <td>1</td>\n",
       "      <td>1</td>\n",
       "      <td>14</td>\n",
       "      <td>0</td>\n",
       "      <td>2</td>\n",
       "      <td>60</td>\n",
       "      <td>159</td>\n",
       "      <td>1</td>\n",
       "    </tr>\n",
       "  </tbody>\n",
       "</table>\n",
       "</div>"
      ],
      "text/plain": [
       "   CustomerID  A1     A2     A3  A4  A5  A6     A7  A8  A9  A10  A11  A12  \\\n",
       "0    15776156   1  22.08  11.46   2   4   4  1.585   0   0    0    1    2   \n",
       "1    15739548   0  22.67   7.00   2   8   4  0.165   0   0    0    0    2   \n",
       "2    15662854   0  29.58   1.75   1   4   4  1.250   0   0    0    1    2   \n",
       "3    15687688   0  21.67  11.50   1   5   3  0.000   1   1   11    1    2   \n",
       "4    15715750   1  20.17   8.17   2   6   4  1.960   1   1   14    0    2   \n",
       "\n",
       "   A13   A14  Class  \n",
       "0  100  1213      0  \n",
       "1  160     1      0  \n",
       "2  280     1      0  \n",
       "3    0     1      1  \n",
       "4   60   159      1  "
      ]
     },
     "execution_count": 4,
     "metadata": {},
     "output_type": "execute_result"
    }
   ],
   "source": [
    "# Una muestra del conjunto de datos\n",
    "dataset.head()"
   ]
  },
  {
   "cell_type": "markdown",
   "metadata": {},
   "source": [
    "Existen 6 atributos numéricos y 8 categóricos. Las etiquetas se han cambiado para la conveniencia de los algoritmos estadísticos. Por ejemplo, el atributo A4 originalmente tenía 3 etiquetas p, g, gg y estas se han cambiado a etiquetas 1,2,3.\n",
    "\n",
    "#### (b) Tipos de datos"
   ]
  },
  {
   "cell_type": "markdown",
   "metadata": {},
   "source": [
    "**CustomerID:** continuo\n",
    "\n",
    "**A1:** 0,1 CATEGORICO (antes: a, b)\n",
    "\n",
    "**A2:** continuo.\n",
    "\n",
    "**A3:** continuo.\n",
    "\n",
    "**A4:** 1,2,3 CATEGORICO (anteriormente: p, g, gg)\n",
    "\n",
    "**A5:** 1, 2,3,4,5,6,7,8,9,10,11,12,13,14 CATEGORICO (anteriormente: ff, d, i, k, j, aa, m, c, w, e, q, r, cc, x)\n",
    "\n",
    "**A6:** 1, 2,3, 4,5,6,7,8,9 CATEGORICAL (anteriormente : ff, dd, j, bb, v, n, o, h, z)\n",
    "\n",
    "**A7:** continuo.\n",
    "\n",
    "**A8:** 1, 0 CATEGORICAL (antes: t, f)\n",
    "\n",
    "**A9:** 1, 0 CATEGORICAL (antes: t, f)\n",
    "\n",
    "**A10:** continuo.\n",
    "\n",
    "**A11:** 1, 0 CATEGORICAL (antes t, f)\n",
    "\n",
    "**A12:** 1, 2, 3 CATEGORICO (antes: s, g, p)\n",
    "\n",
    "**A13:** continuo.\n",
    "\n",
    "**A14:** continuo.\n",
    "\n",
    "**A15:** atributo de clase 1,2 (anteriormente: +, -)"
   ]
  },
  {
   "cell_type": "markdown",
   "metadata": {},
   "source": [
    "Después de importar el conjunto de datos, definimos nuestra variable dependiente e independiente. Nuestras variables independientes son de 1 a 12 atributos, como puede ver en el conjunto de datos de muestra que llamamos **'X'** y la variable dependiente es el último atributo al que llamamos **'y'**."
   ]
  },
  {
   "cell_type": "markdown",
   "metadata": {},
   "source": [
    "**Nota:** construiremos el modelo de SOM, que es aprendizaje profundo no supervisado, por lo que estamos trabajando con variables independientes."
   ]
  },
  {
   "cell_type": "code",
   "execution_count": null,
   "metadata": {},
   "outputs": [],
   "source": [
    "import seaborn as sns\n",
    "sns.set_palette(\"Set2\")\n",
    "plt.figure(figsize = (15,25))\n",
    "for idx, i in enumerate(dataset):\n",
    "    plt.subplot(8, 2, idx + 1)\n",
    "    sns.scatterplot(x =dataset[\"A3\"], y=dataset[i], hue=dataset['Class'] , data = dataset)\n",
    "    plt.title(i,backgroundcolor='black',color='white',fontsize=15)\n",
    "    plt.xlabel('A3' , size = 12)\n",
    "    plt.ylabel(i , size = 12)\n",
    "plt.tight_layout()\n",
    "plt.show()"
   ]
  },
  {
   "cell_type": "code",
   "execution_count": 6,
   "metadata": {},
   "outputs": [
    {
     "data": {
      "text/plain": [
       "<matplotlib.image.AxesImage at 0x21e2ade55d0>"
      ]
     },
     "execution_count": 6,
     "metadata": {},
     "output_type": "execute_result"
    },
    {
     "data": {
      "image/png": "[encoded data removed]",
      "text/plain": [
       "<Figure size 480x480 with 1 Axes>"
      ]
     },
     "metadata": {},
     "output_type": "display_data"
    }
   ],
   "source": [
    "# Make a plot for see the correlation\n",
    "plt.matshow(dataset.corr())"
   ]
  },
  {
   "cell_type": "code",
   "execution_count": null,
   "metadata": {},
   "outputs": [],
   "source": [
    "# Definicion de variable dependiente e independientes\n",
    "X = dataset.iloc [: ,:-1].values    # variables independientes\n",
    "y = dataset.iloc [: , -1].values    # variable dependiente"
   ]
  },
  {
   "cell_type": "code",
   "execution_count": null,
   "metadata": {},
   "outputs": [
    {
     "name": "stdout",
     "output_type": "stream",
     "text": [
      "Variables dependientes X:  [[1.5776156e+07 1.0000000e+00 2.2080000e+01 ... 2.0000000e+00\n",
      "  1.0000000e+02 1.2130000e+03]\n",
      " [1.5739548e+07 0.0000000e+00 2.2670000e+01 ... 2.0000000e+00\n",
      "  1.6000000e+02 1.0000000e+00]\n",
      " [1.5662854e+07 0.0000000e+00 2.9580000e+01 ... 2.0000000e+00\n",
      "  2.8000000e+02 1.0000000e+00]\n",
      " ...\n",
      " [1.5675450e+07 0.0000000e+00 1.8830000e+01 ... 2.0000000e+00\n",
      "  1.0000000e+02 1.0000000e+00]\n",
      " [1.5776494e+07 0.0000000e+00 2.7420000e+01 ... 2.0000000e+00\n",
      "  1.2000000e+02 1.2000000e+01]\n",
      " [1.5592412e+07 1.0000000e+00 4.1000000e+01 ... 1.0000000e+00\n",
      "  5.6000000e+02 1.0000000e+00]]\n"
     ]
    }
   ],
   "source": [
    "print(\"Variables dependientes X: \", X)"
   ]
  },
  {
   "cell_type": "code",
   "execution_count": null,
   "metadata": {},
   "outputs": [
    {
     "name": "stdout",
     "output_type": "stream",
     "text": [
      "Variable dependientes y:  [0 0 0 1 1 1 0 1 0 0 1 1 0 1 0 1 1 1 0 1 0 0 0 0 0 1 0 1 1 1 1 0 0 1 0 0 1\n",
      " 1 1 1 1 0 1 0 0 1 0 1 0 1 0 0 0 0 0 1 1 0 1 1 0 0 1 0 1 1 0 0 0 1 0 0 0 1\n",
      " 1 0 0 0 0 1 1 0 0 0 0 1 0 1 1 0 0 0 0 1 0 1 0 0 0 1 0 1 1 1 0 1 1 0 1 0 0\n",
      " 0 0 1 0 1 1 1 1 1 1 0 0 1 1 0 1 0 1 1 1 0 0 0 0 0 0 1 1 1 0 0 0 1 0 1 1 0\n",
      " 0 1 1 0 0 0 1 1 1 0 1 0 0 0 1 1 0 0 0 1 0 0 0 1 0 0 1 0 0 0 1 1 0 0 1 1 1\n",
      " 0 0 0 0 0 0 1 0 0 0 1 1 0 0 0 1 0 1 0 1 1 0 0 0 0 1 1 0 0 0 1 0 0 0 1 1 0\n",
      " 1 0 0 0 0 1 1 1 1 0 0 1 1 1 0 0 0 1 1 1 1 0 0 0 0 1 1 1 0 0 1 0 1 1 1 1 0\n",
      " 0 0 1 0 1 1 0 0 1 0 0 0 1 0 1 1 0 0 0 1 1 0 0 0 0 0 1 1 1 0 0 0 0 1 1 1 0\n",
      " 0 0 1 0 1 0 0 0 0 1 0 1 0 0 0 0 0 1 1 0 0 1 0 1 1 1 1 1 1 1 0 0 0 0 1 1 1\n",
      " 0 0 0 1 0 1 0 0 0 1 1 1 1 1 1 1 0 1 0 1 0 0 0 0 0 1 0 1 1 0 0 0 0 0 1 0 1\n",
      " 1 0 0 0 1 1 1 0 0 1 1 0 0 0 1 1 0 1 1 1 1 0 0 1 1 0 0 0 0 0 0 1 0 0 0 1 1\n",
      " 0 1 0 0 0 1 1 1 0 0 1 0 1 1 1 0 1 0 0 1 0 0 0 1 0 0 1 0 1 0 1 1 0 1 0 0 1\n",
      " 0 1 1 0 0 0 0 0 1 1 0 0 1 1 0 1 0 1 0 1 0 1 1 0 1 0 1 1 1 0 0 0 0 0 1 0 1\n",
      " 0 0 0 1 1 1 1 1 0 1 1 0 0 0 1 1 1 1 1 1 0 1 1 1 1 0 0 0 0 0 0 0 1 0 0 1 1\n",
      " 1 0 1 0 0 1 1 0 1 0 0 0 0 0 0 1 0 1 0 1 1 1 0 0 1 0 0 0 0 0 0 0 1 1 0 0 0\n",
      " 0 0 1 0 1 0 1 0 0 1 1 1 0 0 0 0 0 1 0 1 1 0 0 0 0 0 1 1 1 0 1 0 1 1 0 0 1\n",
      " 0 1 0 0 1 1 0 1 0 1 1 1 1 0 0 1 0 1 1 0 1 0 1 1 0 0 0 1 0 1 1 0 1 0 0 0 0\n",
      " 0 1 0 1 0 0 0 0 0 0 1 0 1 1 0 0 0 0 0 0 1 1 0 0 1 0 0 1 0 0 1 1 0 1 1 0 0\n",
      " 0 0 0 0 1 1 0 1 1 0 0 0 0 1 0 0 1 0 1 1 0 1 1 1]\n"
     ]
    }
   ],
   "source": [
    "print(\"Variable dependientes y: \", y)"
   ]
  },
  {
   "cell_type": "markdown",
   "metadata": {},
   "source": [
    "#### (c) Escala de funciones"
   ]
  },
  {
   "cell_type": "markdown",
   "metadata": {},
   "source": [
    "El escalado de características es la parte más importante del preprocesamiento de datos. Si vemos nuestro conjunto de datos, entonces algún atributo contiene información en valor numérico, algunos valores son muy altos y algunos son muy bajos si vemos la edad y el salario estimado. Esto causará algunos problemas en nuestro modelo de maquinaria para resolver ese problema. Establecemos todos los valores en la misma escala. Hay dos métodos para resolver ese problema, el primero es **Normalizar** y el segundo es **Escalador estándar**."
   ]
  },
  {
   "attachments": {
    "escalar_vs_normalizar.png": {
     "image/png": "[encoded data removed]"
    }
   },
   "cell_type": "markdown",
   "metadata": {},
   "source": [
    "![escalar_vs_normalizar.png](attachment:escalar_vs_normalizar.png)"
   ]
  },
  {
   "cell_type": "markdown",
   "metadata": {},
   "source": [
    "Aquí utilizamos la **Normalización**, importamos la librería **MinMaxScaler** desde Sklearn."
   ]
  },
  {
   "cell_type": "code",
   "execution_count": null,
   "metadata": {},
   "outputs": [
    {
     "name": "stdout",
     "output_type": "stream",
     "text": [
      "Variables dependientes X:  [[8.42681467e-01 1.00000000e+00 1.25263158e-01 ... 5.00000000e-01\n",
      "  5.00000000e-02 1.21200000e-02]\n",
      " [6.96090562e-01 0.00000000e+00 1.34135338e-01 ... 5.00000000e-01\n",
      "  8.00000000e-02 0.00000000e+00]\n",
      " [3.88981656e-01 0.00000000e+00 2.38045113e-01 ... 5.00000000e-01\n",
      "  1.40000000e-01 0.00000000e+00]\n",
      " ...\n",
      " [4.39420332e-01 0.00000000e+00 7.63909774e-02 ... 5.00000000e-01\n",
      "  5.00000000e-02 0.00000000e+00]\n",
      " [8.44034934e-01 0.00000000e+00 2.05563910e-01 ... 5.00000000e-01\n",
      "  6.00000000e-02 1.10000000e-04]\n",
      " [1.06907888e-01 1.00000000e+00 4.09774436e-01 ... 0.00000000e+00\n",
      "  2.80000000e-01 0.00000000e+00]]\n"
     ]
    }
   ],
   "source": [
    "# Escalar las variables independientes entre 0 y 1\n",
    "from sklearn.preprocessing import MinMaxScaler\n",
    "sc = MinMaxScaler(feature_range = (0,1))\n",
    "X = sc.fit_transform(X)\n",
    "print(\"Variables dependientes X: \", X)"
   ]
  },
  {
   "cell_type": "markdown",
   "metadata": {},
   "source": [
    "#### Parte 2: Construyendo el modelo SOM"
   ]
  },
  {
   "cell_type": "markdown",
   "metadata": {},
   "source": [
    "En esta parte, crearemos el modelo de mapas autoorganizados.\n",
    "\n",
    "Utilizaremos el **modelo MiniSom**, el cual deberemos instalar desde pypi.org (pip install MiniSom )"
   ]
  },
  {
   "cell_type": "code",
   "execution_count": null,
   "metadata": {},
   "outputs": [],
   "source": [
    "# importar el modelo SOM - Si es la primera vez, instalarlo con pip install MiniSom \n",
    "from minisom import MiniSom"
   ]
  },
  {
   "cell_type": "markdown",
   "metadata": {},
   "source": [
    "#### (a) Inicializar el modelo"
   ]
  },
  {
   "cell_type": "markdown",
   "metadata": {},
   "source": [
    "En este paso, inicializamos nuestro modelo SOM y pasamos varios parámetros: \n",
    "\n",
    "* Los dos primeros son la dimensión de nuestro mapa SOM aquí x = 10 & y = 10 significa que tomamos una cuadrícula de 10 por 10.\n",
    "\n",
    "* El tercer parámetro es la longitud de entrada, tenemos 15 atributos diferentes en nuestras columnas de conjunto de datos, por lo que input_lenght = 15. \n",
    "\n",
    "* El cuarto parámetro es sigma, que es el radio de un vecindario diferente en la cuadrícula, por lo que mantendremos 1.0 (que es el valor predeterminado para los SOM). \n",
    "\n",
    "* Y los últimos parámetros pasados son la **tasa de aprendizaje**, que es un hiperparámetro, el tamaño de la cantidad de peso que se actualiza durante cada iteración, por lo que cuanto más alta es la tasa de aprendizaje, más rápida es la conversión y mantenemos el valor predeterminado que es 0.5."
   ]
  },
  {
   "cell_type": "code",
   "execution_count": null,
   "metadata": {},
   "outputs": [],
   "source": [
    "# Inicializar el modelo\n",
    "som = MiniSom( x = 10, y = 10, input_len = 15, sigma = 1.0, learning_rate = 0.5)"
   ]
  },
  {
   "cell_type": "markdown",
   "metadata": {},
   "source": [
    "#### (b) Inicializar los pesos"
   ]
  },
  {
   "cell_type": "markdown",
   "metadata": {},
   "source": [
    "En este paso, inicializamos aleatoriamente nuestras ponderaciones mediante el uso de nuestro modelo SOM inicializado (en la variable som) y pasamos solo un parámetro aquí, el cual es nuestro vector de entrada **X** (las variables independientes del conjunto de datos)."
   ]
  },
  {
   "cell_type": "code",
   "execution_count": null,
   "metadata": {},
   "outputs": [],
   "source": [
    "# Inicializar los pesos\n",
    "som.random_weights_init(X)"
   ]
  },
  {
   "cell_type": "markdown",
   "metadata": {},
   "source": [
    "#### (c) Entrenar el modelo"
   ]
  },
  {
   "cell_type": "markdown",
   "metadata": {},
   "source": [
    "En este paso entrenamos nuestro modelo. Aquí pasamos dos argumentos:\n",
    "\n",
    "* Primero son nuestros datos o el vector de entrada X y \n",
    "\n",
    "* El segundo es el número de iteraciones (epocas), que en nuestro caso elegimos 100."
   ]
  },
  {
   "cell_type": "code",
   "execution_count": null,
   "metadata": {},
   "outputs": [],
   "source": [
    "# Entrenar el modelo\n",
    "som.train_random(data = X, num_iteration = 100)"
   ]
  },
  {
   "cell_type": "markdown",
   "metadata": {},
   "source": [
    "#### Parte 3: Visualizando el resultado"
   ]
  },
  {
   "cell_type": "markdown",
   "metadata": {},
   "source": [
    "En este paso, construimos una visualización del mapa autoorganizado. En primer lugar importamos la librería **pylab** que se utiliza para la visualización de nuestro resultado y desde esta importamos diferentes paquetes. \n",
    "\n",
    "* La instrucción bone() está creando una ventana y luego en la tercera línea de código, con pcolor() tomamos la media de todos los nodos ganadores. \n",
    "\n",
    "* Luego con colorbar() creamos una barra de color cuyo valor esté entre 0 y 1. \n",
    "\n",
    "* Con la instrucción markers (marcadorores), tomamos un círculo de color rojo que significa que el cliente no obtuvo la aprobación y un cuadrado de color verde que identifica qué cliente si obtiene la aprobación."
   ]
  },
  {
   "cell_type": "code",
   "execution_count": null,
   "metadata": {},
   "outputs": [
    {
     "data": {
      "image/png": "[encoded data removed]",
      "text/plain": [
       "<Figure size 640x480 with 2 Axes>"
      ]
     },
     "metadata": {},
     "output_type": "display_data"
    }
   ],
   "source": [
    "# Hacer un mapa de autoorganización\n",
    "from pylab import bone, pcolor, colorbar, plot, show\n",
    "bone()\n",
    "pcolor(som.distance_map().T)\n",
    "colorbar()\n",
    "markers = ['o' , 's']\n",
    "colors = ['r', 'g']\n",
    "for i, x in enumerate(X):\n",
    "    w = som.winner(x)\n",
    "    plot(w[0] + 0.5,\n",
    "         w[1] + 0.5,\n",
    "         markers[y[i]],\n",
    "         markeredgecolor = colors[y[i]],\n",
    "         markerfacecolor = 'None',\n",
    "         markersize = 10,\n",
    "         markeredgewidth = 2)\n",
    "show()"
   ]
  },
  {
   "cell_type": "markdown",
   "metadata": {},
   "source": [
    "Aquí está nuestro **mapa autoorganizado**, el círculo rojo significa que el cliente no obtuvo la aprobación y el cuadrado verde significa que el cliente sí obtuvo la aprobación. \n",
    "\n",
    "Y si observamos nuestro valor atípico, entonces el área de color blanco es un fraude de alto potencial. \n",
    "\n",
    "En la siguiente parte (Parte 4), capturaremos al tramposo (podremos verlo tanto en rojo como en verde)."
   ]
  },
  {
   "cell_type": "markdown",
   "metadata": {},
   "source": [
    "#### Parte 4: Detectar el posible fraude"
   ]
  },
  {
   "cell_type": "markdown",
   "metadata": {},
   "source": [
    "En esta parte, detectamos el posible fraude del cliente del mapa autoorganizado que visualizamos arriba."
   ]
  },
  {
   "cell_type": "markdown",
   "metadata": {},
   "source": [
    "#### (a) Mapeo del nodo ganador"
   ]
  },
  {
   "cell_type": "markdown",
   "metadata": {},
   "source": [
    "En este paso, mapeamos todos los nodos ganadores de clientes del Mapa autoorganizado."
   ]
  },
  {
   "cell_type": "code",
   "execution_count": null,
   "metadata": {},
   "outputs": [],
   "source": [
    "# Mapeo del nodo ganador\n",
    "mappings = som.win_map(X)"
   ]
  },
  {
   "cell_type": "markdown",
   "metadata": {},
   "source": [
    "#### (b) Atrapar al tramposo"
   ]
  },
  {
   "cell_type": "markdown",
   "metadata": {},
   "source": [
    "En este paso detectamos el fraude tomando solo a aquellos clientes que puedan hacer trampa si vemos en nuestro SOM y luego vemos claramente que el mapeo [(7, 1), (3, 1) y (5, 1)] son **potenciales engaños** y usamos concatenate() para concatenar estos tres valores de mapeo para ponerlos en la misma lista."
   ]
  },
  {
   "cell_type": "code",
   "execution_count": null,
   "metadata": {},
   "outputs": [],
   "source": [
    "# atrapar al tramposo\n",
    "fraudes = np.concatenate((mappings[(7,1)], mappings[(3,2)], mappings[(5,4)] ), axis=0)"
   ]
  },
  {
   "cell_type": "markdown",
   "metadata": {},
   "source": [
    "#### (c) Cambiar la escala del valor"
   ]
  },
  {
   "cell_type": "markdown",
   "metadata": {},
   "source": [
    "En este paso, convertimos nuestro valor de escala (entre 0 y 1) en la escala original. Para hacer eso usamos la función inversa."
   ]
  },
  {
   "cell_type": "code",
   "execution_count": null,
   "metadata": {},
   "outputs": [],
   "source": [
    "# cambiar la escala del valor usando la función inversa\n",
    "fraudes = sc.inverse_transform(fraudes)"
   ]
  },
  {
   "cell_type": "markdown",
   "metadata": {},
   "source": [
    "Finalmente, llamamos a la variable fraudes y obtendremos la lista completa de los clientes que podrían engañar al banco."
   ]
  },
  {
   "cell_type": "code",
   "execution_count": null,
   "metadata": {},
   "outputs": [
    {
     "data": {
      "text/plain": [
       "array([15790254., 15748552., 15757467., 15801441., 15815443., 15748432.,\n",
       "       15788131., 15699963., 15771856., 15648876., 15696287., 15698749.,\n",
       "       15764841., 15748649., 15729718., 15667588., 15705379., 15701687.])"
      ]
     },
     "execution_count": 17,
     "metadata": {},
     "output_type": "execute_result"
    }
   ],
   "source": [
    "# Mostramos es ID de los clientes que podrian engañar al banco\n",
    "#len(fraudes)\n",
    "fraudes[:,0]"
   ]
  }
 ],
 "metadata": {
  "kernelspec": {
   "display_name": "Python 3",
   "language": "python",
   "name": "python3"
  },
  "language_info": {
   "codemirror_mode": {
    "name": "ipython",
    "version": 3
   },
   "file_extension": ".py",
   "mimetype": "text/x-python",
   "name": "python",
   "nbconvert_exporter": "python",
   "pygments_lexer": "ipython3",
   "version": "3.11.6"
  }
 },
 "nbformat": 4,
 "nbformat_minor": 2
}
