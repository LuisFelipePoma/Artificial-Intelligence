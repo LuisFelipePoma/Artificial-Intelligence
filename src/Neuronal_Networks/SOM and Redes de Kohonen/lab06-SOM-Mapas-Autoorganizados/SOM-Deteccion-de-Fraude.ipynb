{
 "cells": [
  {
   "attachments": {
    "upc_logo.png": {
     "image/png": "[encoded data removed]"
    }
   },
   "cell_type": "markdown",
   "metadata": {},
   "source": [
    "![upc_logo.png](attachment:upc_logo.png)"
   ]
  },
  {
   "cell_type": "markdown",
   "metadata": {},
   "source": [
    "<h3 align=\"center\">Inteligencia Artificial - WS7A</h3>"
   ]
  },
  {
   "cell_type": "markdown",
   "metadata": {},
   "source": [
    "# Detección de fraude mediante el Mapa de Autoorganización - SOM"
   ]
  },
  {
   "cell_type": "markdown",
   "metadata": {},
   "source": [
    "Fuente de Datos: https://www.kaggle.com/ujjwal9/credit-card-applications\n"
   ]
  },
  {
   "cell_type": "markdown",
   "metadata": {},
   "source": [
    "Según un informe reciente publicado por **Markets & Markets**, el mercado de detección y prevención de fraudes tendrá un valor de 33,19 mil millones de dólares para 2021. Esta es una industria enorme y la demanda de habilidades avanzadas de aprendizaje profundo solo va a crecer.\n",
    "\n",
    "El desafío empresarial aquí consiste en detectar el fraude en las aplicaciones de tarjetas de crédito. Crearemos un **modelo de aprendizaje profundo** para un banco y obtendremos un conjunto de datos que contiene información sobre los clientes que solicitan una tarjeta de crédito avanzada.\n"
   ]
  },
  {
   "cell_type": "markdown",
   "metadata": {},
   "source": [
    "### OBJETIVO\n",
    "\n",
    "Detectar posibles fraudes dentro de las solicitudes para aplicar a una tarjeta de crédito avanzada, presentando al final una lista explícita de aquellos clientes que potencialmente engañaron con sus datos."
   ]
  },
  {
   "cell_type": "markdown",
   "metadata": {},
   "source": [
    "#### Parte 1: Preprocesamiento de datos"
   ]
  },
  {
   "cell_type": "markdown",
   "metadata": {},
   "source": [
    "En primer lugar, importamos la librería **numpy** utilizada para la matriz multidimensional, luego importamos la librería **pandas** utilizada para importar el conjunto de datos y, por último, importamos la librería **matplotlib** utilizada para trazar el gráfico."
   ]
  },
  {
   "cell_type": "code",
   "execution_count": null,
   "metadata": {},
   "outputs": [],
   "source": [
    "# importar librerias\n",
    "import numpy as np\n",
    "import pandas as pd\n",
    "import matplotlib.pyplot as plt"
   ]
  },
  {
   "cell_type": "markdown",
   "metadata": {},
   "source": [
    "### Descripción del Conjunto de Datos"
   ]
  },
  {
   "cell_type": "markdown",
   "metadata": {},
   "source": [
    "Los datos se encuentran contenidos en el archivo **Credit_Card_applications.csv**.  Este archivo se refiere a datos suministrados en aplicaciones (formularios) para la obtención de tarjetas de crédito. Todos los nombres y valores de los atributos se han cambiado a símbolos sin sentido para proteger la confidencialidad de los datos.\n",
    "Está compuesto por 690 observaciones y 16 columnas o atributos."
   ]
  },
  {
   "cell_type": "code",
   "execution_count": null,
   "metadata": {},
   "outputs": [],
   "source": [
    "# obtener el conjunto de datos\n",
    "dataset = pd.read_csv('Credit_Card_applications.csv')"
   ]
  },
  {
   "cell_type": "markdown",
   "metadata": {},
   "source": [
    "#### (a) Descripción de los atributos"
   ]
  },
  {
   "cell_type": "markdown",
   "metadata": {},
   "source": [
    "Este conjunto de datos es interesante porque hay una buena combinación de atributos: continuo, nominal con un número reducido de valores y nominal con un número mayor de valores. También hay algunos valores perdidos."
   ]
  },
  {
   "cell_type": "code",
   "execution_count": null,
   "metadata": {},
   "outputs": [],
   "source": [
    "# Informacion de los atributos\n",
    "dataset.info()"
   ]
  },
  {
   "cell_type": "code",
   "execution_count": null,
   "metadata": {},
   "outputs": [],
   "source": [
    "# Una muestra del conjunto de datos\n",
    "dataset.head()"
   ]
  },
  {
   "cell_type": "markdown",
   "metadata": {},
   "source": [
    "Existen 6 atributos numéricos y 8 categóricos. Las etiquetas se han cambiado para la conveniencia de los algoritmos estadísticos. Por ejemplo, el atributo A4 originalmente tenía 3 etiquetas p, g, gg y estas se han cambiado a etiquetas 1,2,3.\n",
    "\n",
    "#### (b) Tipos de datos"
   ]
  },
  {
   "cell_type": "markdown",
   "metadata": {},
   "source": [
    "**CustomerID:** continuo\n",
    "\n",
    "**A1:** 0,1 CATEGORICO (antes: a, b)\n",
    "\n",
    "**A2:** continuo.\n",
    "\n",
    "**A3:** continuo.\n",
    "\n",
    "**A4:** 1,2,3 CATEGORICO (anteriormente: p, g, gg)\n",
    "\n",
    "**A5:** 1, 2,3,4,5,6,7,8,9,10,11,12,13,14 CATEGORICO (anteriormente: ff, d, i, k, j, aa, m, c, w, e, q, r, cc, x)\n",
    "\n",
    "**A6:** 1, 2,3, 4,5,6,7,8,9 CATEGORICAL (anteriormente : ff, dd, j, bb, v, n, o, h, z)\n",
    "\n",
    "**A7:** continuo.\n",
    "\n",
    "**A8:** 1, 0 CATEGORICAL (antes: t, f)\n",
    "\n",
    "**A9:** 1, 0 CATEGORICAL (antes: t, f)\n",
    "\n",
    "**A10:** continuo.\n",
    "\n",
    "**A11:** 1, 0 CATEGORICAL (antes t, f)\n",
    "\n",
    "**A12:** 1, 2, 3 CATEGORICO (antes: s, g, p)\n",
    "\n",
    "**A13:** continuo.\n",
    "\n",
    "**A14:** continuo.\n",
    "\n",
    "**A15:** atributo de clase 1,2 (anteriormente: +, -)"
   ]
  },
  {
   "cell_type": "markdown",
   "metadata": {},
   "source": [
    "Después de importar el conjunto de datos, definimos nuestra variable dependiente e independiente. Nuestras variables independientes son de 1 a 12 atributos, como puede ver en el conjunto de datos de muestra que llamamos **'X'** y la variable dependiente es el último atributo al que llamamos **'y'**."
   ]
  },
  {
   "cell_type": "markdown",
   "metadata": {},
   "source": [
    "**Nota:** construiremos el modelo de SOM, que es aprendizaje profundo no supervisado, por lo que estamos trabajando con variables independientes."
   ]
  },
  {
   "cell_type": "code",
   "execution_count": null,
   "metadata": {},
   "outputs": [],
   "source": [
    "import seaborn as sns\n",
    "sns.set_palette(\"Set2\")\n",
    "plt.figure(figsize = (15,25))\n",
    "for idx, i in enumerate(dataset):\n",
    "    plt.subplot(8, 2, idx + 1)\n",
    "    sns.scatterplot(x =dataset[\"A3\"], y=dataset[i], hue=dataset['Class'] , data = dataset)\n",
    "    plt.title(i,backgroundcolor='black',color='white',fontsize=15)\n",
    "    plt.xlabel('A3' , size = 12)\n",
    "    plt.ylabel(i , size = 12)\n",
    "plt.tight_layout()\n",
    "plt.show()"
   ]
  },
  {
   "cell_type": "code",
   "execution_count": null,
   "metadata": {},
   "outputs": [],
   "source": [
    "# Make a plot for see the correlation\n",
    "plt.matshow(dataset.corr())"
   ]
  },
  {
   "cell_type": "code",
   "execution_count": null,
   "metadata": {},
   "outputs": [],
   "source": [
    "# Definicion de variable dependiente e independientes\n",
    "X = dataset.iloc [: ,:-1].values    # variables independientes\n",
    "y = dataset.iloc [: , -1].values    # variable dependiente"
   ]
  },
  {
   "cell_type": "code",
   "execution_count": null,
   "metadata": {},
   "outputs": [],
   "source": [
    "print(\"Variables dependientes X: \", X)"
   ]
  },
  {
   "cell_type": "code",
   "execution_count": null,
   "metadata": {},
   "outputs": [],
   "source": [
    "print(\"Variable dependientes y: \", y)"
   ]
  },
  {
   "cell_type": "markdown",
   "metadata": {},
   "source": [
    "#### (c) Escala de funciones"
   ]
  },
  {
   "cell_type": "markdown",
   "metadata": {},
   "source": [
    "El escalado de características es la parte más importante del preprocesamiento de datos. Si vemos nuestro conjunto de datos, entonces algún atributo contiene información en valor numérico, algunos valores son muy altos y algunos son muy bajos si vemos la edad y el salario estimado. Esto causará algunos problemas en nuestro modelo de maquinaria para resolver ese problema. Establecemos todos los valores en la misma escala. Hay dos métodos para resolver ese problema, el primero es **Normalizar** y el segundo es **Escalador estándar**."
   ]
  },
  {
   "attachments": {
    "escalar_vs_normalizar.png": {
     "image/png": "[encoded data removed]"
    }
   },
   "cell_type": "markdown",
   "metadata": {},
   "source": [
    "![escalar_vs_normalizar.png](attachment:escalar_vs_normalizar.png)"
   ]
  },
  {
   "cell_type": "markdown",
   "metadata": {},
   "source": [
    "Aquí utilizamos la **Normalización**, importamos la librería **MinMaxScaler** desde Sklearn."
   ]
  },
  {
   "cell_type": "code",
   "execution_count": null,
   "metadata": {},
   "outputs": [],
   "source": [
    "# Escalar las variables independientes entre 0 y 1\n",
    "from sklearn.preprocessing import MinMaxScaler\n",
    "sc = MinMaxScaler(feature_range = (0,1))\n",
    "X = sc.fit_transform(X)\n",
    "print(\"Variables dependientes X: \", X)"
   ]
  },
  {
   "cell_type": "markdown",
   "metadata": {},
   "source": [
    "#### Parte 2: Construyendo el modelo SOM"
   ]
  },
  {
   "cell_type": "markdown",
   "metadata": {},
   "source": [
    "En esta parte, crearemos el modelo de mapas autoorganizados.\n",
    "\n",
    "Utilizaremos el **modelo MiniSom**, el cual deberemos instalar desde pypi.org (pip install MiniSom )"
   ]
  },
  {
   "cell_type": "code",
   "execution_count": null,
   "metadata": {},
   "outputs": [],
   "source": [
    "# importar el modelo SOM - Si es la primera vez, instalarlo con pip install MiniSom \n",
    "from minisom import MiniSom"
   ]
  },
  {
   "cell_type": "markdown",
   "metadata": {},
   "source": [
    "#### (a) Inicializar el modelo"
   ]
  },
  {
   "cell_type": "markdown",
   "metadata": {},
   "source": [
    "En este paso, inicializamos nuestro modelo SOM y pasamos varios parámetros: \n",
    "\n",
    "* Los dos primeros son la dimensión de nuestro mapa SOM aquí x = 10 & y = 10 significa que tomamos una cuadrícula de 10 por 10.\n",
    "\n",
    "* El tercer parámetro es la longitud de entrada, tenemos 15 atributos diferentes en nuestras columnas de conjunto de datos, por lo que input_lenght = 15. \n",
    "\n",
    "* El cuarto parámetro es sigma, que es el radio de un vecindario diferente en la cuadrícula, por lo que mantendremos 1.0 (que es el valor predeterminado para los SOM). \n",
    "\n",
    "* Y los últimos parámetros pasados son la **tasa de aprendizaje**, que es un hiperparámetro, el tamaño de la cantidad de peso que se actualiza durante cada iteración, por lo que cuanto más alta es la tasa de aprendizaje, más rápida es la conversión y mantenemos el valor predeterminado que es 0.5."
   ]
  },
  {
   "cell_type": "code",
   "execution_count": null,
   "metadata": {},
   "outputs": [],
   "source": [
    "# Inicializar el modelo\n",
    "som = MiniSom( x = 10, y = 10, input_len = 15, sigma = 1.0, learning_rate = 0.5)"
   ]
  },
  {
   "cell_type": "markdown",
   "metadata": {},
   "source": [
    "#### (b) Inicializar los pesos"
   ]
  },
  {
   "cell_type": "markdown",
   "metadata": {},
   "source": [
    "En este paso, inicializamos aleatoriamente nuestras ponderaciones mediante el uso de nuestro modelo SOM inicializado (en la variable som) y pasamos solo un parámetro aquí, el cual es nuestro vector de entrada **X** (las variables independientes del conjunto de datos)."
   ]
  },
  {
   "cell_type": "code",
   "execution_count": null,
   "metadata": {},
   "outputs": [],
   "source": [
    "# Inicializar los pesos\n",
    "som.random_weights_init(X)"
   ]
  },
  {
   "cell_type": "markdown",
   "metadata": {},
   "source": [
    "#### (c) Entrenar el modelo"
   ]
  },
  {
   "cell_type": "markdown",
   "metadata": {},
   "source": [
    "En este paso entrenamos nuestro modelo. Aquí pasamos dos argumentos:\n",
    "\n",
    "* Primero son nuestros datos o el vector de entrada X y \n",
    "\n",
    "* El segundo es el número de iteraciones (epocas), que en nuestro caso elegimos 100."
   ]
  },
  {
   "cell_type": "code",
   "execution_count": null,
   "metadata": {},
   "outputs": [],
   "source": [
    "# Entrenar el modelo\n",
    "som.train_random(data = X, num_iteration = 100)"
   ]
  },
  {
   "cell_type": "markdown",
   "metadata": {},
   "source": [
    "#### Parte 3: Visualizando el resultado"
   ]
  },
  {
   "cell_type": "markdown",
   "metadata": {},
   "source": [
    "En este paso, construimos una visualización del mapa autoorganizado. En primer lugar importamos la librería **pylab** que se utiliza para la visualización de nuestro resultado y desde esta importamos diferentes paquetes. \n",
    "\n",
    "* La instrucción bone() está creando una ventana y luego en la tercera línea de código, con pcolor() tomamos la media de todos los nodos ganadores. \n",
    "\n",
    "* Luego con colorbar() creamos una barra de color cuyo valor esté entre 0 y 1. \n",
    "\n",
    "* Con la instrucción markers (marcadorores), tomamos un círculo de color rojo que significa que el cliente no obtuvo la aprobación y un cuadrado de color verde que identifica qué cliente si obtiene la aprobación."
   ]
  },
  {
   "cell_type": "code",
   "execution_count": null,
   "metadata": {},
   "outputs": [],
   "source": [
    "# Hacer un mapa de autoorganización\n",
    "from pylab import bone, pcolor, colorbar, plot, show\n",
    "bone()\n",
    "pcolor(som.distance_map().T)\n",
    "colorbar()\n",
    "markers = ['o' , 's']\n",
    "colors = ['r', 'g']\n",
    "for i, x in enumerate(X):\n",
    "    w = som.winner(x)\n",
    "    plot(w[0] + 0.5,\n",
    "         w[1] + 0.5,\n",
    "         markers[y[i]],\n",
    "         markeredgecolor = colors[y[i]],\n",
    "         markerfacecolor = 'None',\n",
    "         markersize = 10,\n",
    "         markeredgewidth = 2)\n",
    "show()"
   ]
  },
  {
   "cell_type": "markdown",
   "metadata": {},
   "source": [
    "Aquí está nuestro **mapa autoorganizado**, el círculo rojo significa que el cliente no obtuvo la aprobación y el cuadrado verde significa que el cliente sí obtuvo la aprobación. \n",
    "\n",
    "Y si observamos nuestro valor atípico, entonces el área de color blanco es un fraude de alto potencial. \n",
    "\n",
    "En la siguiente parte (Parte 4), capturaremos al tramposo (podremos verlo tanto en rojo como en verde)."
   ]
  },
  {
   "cell_type": "markdown",
   "metadata": {},
   "source": [
    "#### Parte 4: Detectar el posible fraude"
   ]
  },
  {
   "cell_type": "markdown",
   "metadata": {},
   "source": [
    "En esta parte, detectamos el posible fraude del cliente del mapa autoorganizado que visualizamos arriba."
   ]
  },
  {
   "cell_type": "markdown",
   "metadata": {},
   "source": [
    "#### (a) Mapeo del nodo ganador"
   ]
  },
  {
   "cell_type": "markdown",
   "metadata": {},
   "source": [
    "En este paso, mapeamos todos los nodos ganadores de clientes del Mapa autoorganizado."
   ]
  },
  {
   "cell_type": "code",
   "execution_count": null,
   "metadata": {},
   "outputs": [],
   "source": [
    "# Mapeo del nodo ganador\n",
    "mappings = som.win_map(X)"
   ]
  },
  {
   "cell_type": "markdown",
   "metadata": {},
   "source": [
    "#### (b) Atrapar al tramposo"
   ]
  },
  {
   "cell_type": "markdown",
   "metadata": {},
   "source": [
    "En este paso detectamos el fraude tomando solo a aquellos clientes que puedan hacer trampa si vemos en nuestro SOM y luego vemos claramente que el mapeo [(7, 1), (3, 1) y (5, 1)] son **potenciales engaños** y usamos concatenate() para concatenar estos tres valores de mapeo para ponerlos en la misma lista."
   ]
  },
  {
   "cell_type": "code",
   "execution_count": null,
   "metadata": {},
   "outputs": [],
   "source": [
    "# atrapar al tramposo\n",
    "fraudes = np.concatenate((mappings[(7,1)], mappings[(3,2)], mappings[(5,4)] ), axis=0)"
   ]
  },
  {
   "cell_type": "markdown",
   "metadata": {},
   "source": [
    "#### (c) Cambiar la escala del valor"
   ]
  },
  {
   "cell_type": "markdown",
   "metadata": {},
   "source": [
    "En este paso, convertimos nuestro valor de escala (entre 0 y 1) en la escala original. Para hacer eso usamos la función inversa."
   ]
  },
  {
   "cell_type": "code",
   "execution_count": null,
   "metadata": {},
   "outputs": [],
   "source": [
    "# cambiar la escala del valor usando la función inversa\n",
    "fraudes = sc.inverse_transform(fraudes)"
   ]
  },
  {
   "cell_type": "markdown",
   "metadata": {},
   "source": [
    "Finalmente, llamamos a la variable fraudes y obtendremos la lista completa de los clientes que podrían engañar al banco."
   ]
  },
  {
   "cell_type": "code",
   "execution_count": null,
   "metadata": {},
   "outputs": [],
   "source": [
    "# Mostramos es ID de los clientes que podrian engañar al banco\n",
    "#len(fraudes)\n",
    "fraudes[:,0]"
   ]
  }
 ],
 "metadata": {
  "kernelspec": {
   "display_name": "Python 3",
   "language": "python",
   "name": "python3"
  },
  "language_info": {
   "codemirror_mode": {
    "name": "ipython",
    "version": 3
   },
   "file_extension": ".py",
   "mimetype": "text/x-python",
   "name": "python",
   "nbconvert_exporter": "python",
   "pygments_lexer": "ipython3",
   "version": "3.11.6"
  }
 },
 "nbformat": 4,
 "nbformat_minor": 2
}
