{
 "cells": [
  {
   "attachments": {
    "tweepy-python-twitter.png": {
     "image/png": "[encoded data removed]"
    }
   },
   "cell_type": "markdown",
   "metadata": {},
   "source": [
    "![tweepy-python-twitter.png](attachment:tweepy-python-twitter.png)"
   ]
  },
  {
   "cell_type": "markdown",
   "metadata": {},
   "source": [
    "## Ejercicio - Análisis de Twitter con Tweepy y TexBlob"
   ]
  },
  {
   "cell_type": "markdown",
   "metadata": {},
   "source": [
    "Cargaremos un archivo de texto llamado **peru.csv** conteniendo tweets que resultaron de la busqueada con el hashtag **#peru** del 5 al 11 de noviembre del 2021.\n",
    "\n",
    "Realizar las operaciones que se solicitan.\n",
    "\n",
    "**Nota:** Mayor info sobre el diccionario de datos del objeto \"tweet\" se describe en: https://developer.twitter.com/en/docs/twitter-api/v1/data-dictionary/object-model/tweet"
   ]
  },
  {
   "cell_type": "markdown",
   "metadata": {},
   "source": [
    "### 1. Importación de librerias"
   ]
  },
  {
   "cell_type": "code",
   "execution_count": 1,
   "metadata": {},
   "outputs": [],
   "source": [
    "import pandas as pd\n",
    "import numpy as np"
   ]
  },
  {
   "cell_type": "markdown",
   "metadata": {},
   "source": [
    "### 2. Carga de Tweets"
   ]
  },
  {
   "cell_type": "markdown",
   "metadata": {},
   "source": [
    "**(a) Cargamos los tweets contenidos en peru.csv** en un dataframe llamado **data**"
   ]
  },
  {
   "cell_type": "code",
   "execution_count": 2,
   "metadata": {},
   "outputs": [],
   "source": [
    "# ESCRIBE TU CODIGO AQUI"
   ]
  },
  {
   "cell_type": "markdown",
   "metadata": {},
   "source": [
    "### 3. Análisis de datos"
   ]
  },
  {
   "cell_type": "markdown",
   "metadata": {},
   "source": [
    "**(b) Observamos las 10 primeras observaciones de data**"
   ]
  },
  {
   "cell_type": "code",
   "execution_count": null,
   "metadata": {},
   "outputs": [],
   "source": [
    "# ESCRIBE TU CODIGO AQUI"
   ]
  },
  {
   "cell_type": "code",
   "execution_count": 3,
   "metadata": {},
   "outputs": [
    {
     "data": {
      "text/html": [
       "<div>\n",
       "<style scoped>\n",
       "    .dataframe tbody tr th:only-of-type {\n",
       "        vertical-align: middle;\n",
       "    }\n",
       "\n",
       "    .dataframe tbody tr th {\n",
       "        vertical-align: top;\n",
       "    }\n",
       "\n",
       "    .dataframe thead th {\n",
       "        text-align: right;\n",
       "    }\n",
       "</style>\n",
       "<table border=\"1\" class=\"dataframe\">\n",
       "  <thead>\n",
       "    <tr style=\"text-align: right;\">\n",
       "      <th></th>\n",
       "      <th>created_at</th>\n",
       "      <th>text</th>\n",
       "      <th>len</th>\n",
       "      <th>likes</th>\n",
       "      <th>RTs</th>\n",
       "      <th>user_name</th>\n",
       "    </tr>\n",
       "  </thead>\n",
       "  <tbody>\n",
       "    <tr>\n",
       "      <th>0</th>\n",
       "      <td>2021-11-10 23:59:49</td>\n",
       "      <td>👏 VAMOS #PERÚ👏 https://t.co/xWVkuocsjL</td>\n",
       "      <td>0</td>\n",
       "      <td>0</td>\n",
       "      <td>sportimba</td>\n",
       "      <td>NaN</td>\n",
       "    </tr>\n",
       "    <tr>\n",
       "      <th>1</th>\n",
       "      <td>2021-11-10 23:58:19</td>\n",
       "      <td>Un gran gusto y honor haber sido convocado por...</td>\n",
       "      <td>42</td>\n",
       "      <td>9</td>\n",
       "      <td>emilianox</td>\n",
       "      <td>NaN</td>\n",
       "    </tr>\n",
       "    <tr>\n",
       "      <th>2</th>\n",
       "      <td>2021-11-10 23:57:22</td>\n",
       "      <td>#OPPOA54 Unboxing y Primer contacto en Español...</td>\n",
       "      <td>1</td>\n",
       "      <td>1</td>\n",
       "      <td>KarlosPeru</td>\n",
       "      <td>NaN</td>\n",
       "    </tr>\n",
       "    <tr>\n",
       "      <th>3</th>\n",
       "      <td>2021-11-10 23:57:00</td>\n",
       "      <td>#10Nov  ✅Quieres Plata❓Juega y Gana Con @ReyLo...</td>\n",
       "      <td>1</td>\n",
       "      <td>0</td>\n",
       "      <td>LaLupaDelDinero</td>\n",
       "      <td>NaN</td>\n",
       "    </tr>\n",
       "    <tr>\n",
       "      <th>4</th>\n",
       "      <td>2021-11-10 23:57:00</td>\n",
       "      <td>Miguel y Kiara este fin de semana visitaron la...</td>\n",
       "      <td>1</td>\n",
       "      <td>1</td>\n",
       "      <td>ACTransparencia</td>\n",
       "      <td>NaN</td>\n",
       "    </tr>\n",
       "    <tr>\n",
       "      <th>5</th>\n",
       "      <td>2021-11-10 23:56:29</td>\n",
       "      <td>Ya pasaron 3 meses y no ha llegado la \"tercera...</td>\n",
       "      <td>0</td>\n",
       "      <td>0</td>\n",
       "      <td>Ros4Mia08</td>\n",
       "      <td>NaN</td>\n",
       "    </tr>\n",
       "    <tr>\n",
       "      <th>6</th>\n",
       "      <td>2021-11-10 23:55:37</td>\n",
       "      <td>@VirgiDArbulu #Perú estamos a tiempo, no esper...</td>\n",
       "      <td>8</td>\n",
       "      <td>4</td>\n",
       "      <td>h_1789</td>\n",
       "      <td>NaN</td>\n",
       "    </tr>\n",
       "    <tr>\n",
       "      <th>7</th>\n",
       "      <td>2021-11-10 23:55:10</td>\n",
       "      <td>@JuanC_Becerra @mccoam #Perú Pagada desde el 5...</td>\n",
       "      <td>0</td>\n",
       "      <td>0</td>\n",
       "      <td>JacquedeRod</td>\n",
       "      <td>NaN</td>\n",
       "    </tr>\n",
       "    <tr>\n",
       "      <th>8</th>\n",
       "      <td>2021-11-10 23:52:54</td>\n",
       "      <td>¿La decisión del presidente de #Perú les recue...</td>\n",
       "      <td>15</td>\n",
       "      <td>2</td>\n",
       "      <td>MVSNoticias</td>\n",
       "      <td>NaN</td>\n",
       "    </tr>\n",
       "    <tr>\n",
       "      <th>9</th>\n",
       "      <td>2021-11-10 23:50:52</td>\n",
       "      <td>Pʀᴏʏ Pᴀᴄʜᴀʏᴀᴄʜᴀʏ - Pᴀᴄʜᴀʏᴀᴛɪɴ̃ᴀ 🇵🇪 de EUROCLIM...</td>\n",
       "      <td>1</td>\n",
       "      <td>0</td>\n",
       "      <td>HelvetasPeru</td>\n",
       "      <td>NaN</td>\n",
       "    </tr>\n",
       "  </tbody>\n",
       "</table>\n",
       "</div>"
      ],
      "text/plain": [
       "            created_at                                               text  \\\n",
       "0  2021-11-10 23:59:49             👏 VAMOS #PERÚ👏 https://t.co/xWVkuocsjL   \n",
       "1  2021-11-10 23:58:19  Un gran gusto y honor haber sido convocado por...   \n",
       "2  2021-11-10 23:57:22  #OPPOA54 Unboxing y Primer contacto en Español...   \n",
       "3  2021-11-10 23:57:00  #10Nov  ✅Quieres Plata❓Juega y Gana Con @ReyLo...   \n",
       "4  2021-11-10 23:57:00  Miguel y Kiara este fin de semana visitaron la...   \n",
       "5  2021-11-10 23:56:29  Ya pasaron 3 meses y no ha llegado la \"tercera...   \n",
       "6  2021-11-10 23:55:37  @VirgiDArbulu #Perú estamos a tiempo, no esper...   \n",
       "7  2021-11-10 23:55:10  @JuanC_Becerra @mccoam #Perú Pagada desde el 5...   \n",
       "8  2021-11-10 23:52:54  ¿La decisión del presidente de #Perú les recue...   \n",
       "9  2021-11-10 23:50:52  Pʀᴏʏ Pᴀᴄʜᴀʏᴀᴄʜᴀʏ - Pᴀᴄʜᴀʏᴀᴛɪɴ̃ᴀ 🇵🇪 de EUROCLIM...   \n",
       "\n",
       "   len  likes              RTs  user_name  \n",
       "0    0      0        sportimba        NaN  \n",
       "1   42      9        emilianox        NaN  \n",
       "2    1      1       KarlosPeru        NaN  \n",
       "3    1      0  LaLupaDelDinero        NaN  \n",
       "4    1      1  ACTransparencia        NaN  \n",
       "5    0      0        Ros4Mia08        NaN  \n",
       "6    8      4           h_1789        NaN  \n",
       "7    0      0      JacquedeRod        NaN  \n",
       "8   15      2      MVSNoticias        NaN  \n",
       "9    1      0     HelvetasPeru        NaN  "
      ]
     },
     "execution_count": 3,
     "metadata": {},
     "output_type": "execute_result"
    }
   ],
   "source": []
  },
  {
   "cell_type": "markdown",
   "metadata": {},
   "source": [
    "**(c) Cuantas observaciones tiene el dataframe llamado data?**"
   ]
  },
  {
   "cell_type": "code",
   "execution_count": null,
   "metadata": {},
   "outputs": [],
   "source": [
    "# ESCRIBE TU CODIGO AQUI"
   ]
  },
  {
   "cell_type": "code",
   "execution_count": 4,
   "metadata": {},
   "outputs": [
    {
     "data": {
      "text/plain": [
       "4646"
      ]
     },
     "execution_count": 4,
     "metadata": {},
     "output_type": "execute_result"
    }
   ],
   "source": []
  },
  {
   "cell_type": "markdown",
   "metadata": {},
   "source": [
    "**(d)Que info tiene el conjuno de datos?**"
   ]
  },
  {
   "cell_type": "code",
   "execution_count": null,
   "metadata": {},
   "outputs": [],
   "source": [
    "# ESCRIBE TU CODIGO AQUI"
   ]
  },
  {
   "cell_type": "code",
   "execution_count": 5,
   "metadata": {},
   "outputs": [
    {
     "name": "stdout",
     "output_type": "stream",
     "text": [
      "<class 'pandas.core.frame.DataFrame'>\n",
      "RangeIndex: 4646 entries, 0 to 4645\n",
      "Data columns (total 6 columns):\n",
      " #   Column      Non-Null Count  Dtype  \n",
      "---  ------      --------------  -----  \n",
      " 0   created_at  4646 non-null   object \n",
      " 1   text        4646 non-null   object \n",
      " 2   len         4646 non-null   int64  \n",
      " 3   likes       4646 non-null   int64  \n",
      " 4   RTs         4646 non-null   object \n",
      " 5   user_name   0 non-null      float64\n",
      "dtypes: float64(1), int64(2), object(3)\n",
      "memory usage: 217.9+ KB\n"
     ]
    }
   ],
   "source": []
  },
  {
   "cell_type": "markdown",
   "metadata": {},
   "source": [
    "**(e) Cual es el promedio de likes?** "
   ]
  },
  {
   "cell_type": "code",
   "execution_count": null,
   "metadata": {},
   "outputs": [],
   "source": [
    "# ESCRIBE TU CODIGO AQUI"
   ]
  },
  {
   "cell_type": "code",
   "execution_count": 6,
   "metadata": {},
   "outputs": [
    {
     "name": "stdout",
     "output_type": "stream",
     "text": [
      "Promedio de likes: 2.23 \n",
      "\n"
     ]
    }
   ],
   "source": [
    "\n"
   ]
  },
  {
   "cell_type": "markdown",
   "metadata": {},
   "source": [
    "**(f) Cual es el tweet con más likes y cual el que tiene más retweets?**"
   ]
  },
  {
   "cell_type": "code",
   "execution_count": null,
   "metadata": {},
   "outputs": [],
   "source": [
    "# ESCRIBE TU CODIGO AQUI"
   ]
  },
  {
   "cell_type": "code",
   "execution_count": 8,
   "metadata": {},
   "outputs": [
    {
     "name": "stdout",
     "output_type": "stream",
     "text": [
      "Tweet con mas likes:  303  likes\n",
      "Indice del Tweet con mas likes:  2949\n",
      "Usuario:  nan\n",
      "Queremos capturar Run Run pero Pinturita se nos escapa fácil… #Perú\n"
     ]
    }
   ],
   "source": []
  },
  {
   "cell_type": "code",
   "execution_count": null,
   "metadata": {},
   "outputs": [],
   "source": [
    "# ESCRIBE TU CODIGO AQUI"
   ]
  },
  {
   "cell_type": "code",
   "execution_count": 9,
   "metadata": {},
   "outputs": [
    {
     "name": "stdout",
     "output_type": "stream",
     "text": [
      "Tweet con mas retweets:  zoe81x  retweets\n",
      "Indice del Tweet con mas RTs:  1220\n",
      "Usuario:  nan\n",
      "@VLADIMIR_CERRON Por que no te LARGAS!!!! Y te llevas a CASTILLO, BERMEJO, BELLIDO, y a todos los IMPRESENTABLES qu… https://t.co/8g3UXgjPJ7\n"
     ]
    }
   ],
   "source": []
  },
  {
   "cell_type": "markdown",
   "metadata": {},
   "source": [
    "### 4. Visualizaciones"
   ]
  },
  {
   "cell_type": "markdown",
   "metadata": {},
   "source": [
    "**(a) Crea una serie de tiempo para las columnas 'likes' y \"RTs\" por separado**"
   ]
  },
  {
   "cell_type": "code",
   "execution_count": null,
   "metadata": {},
   "outputs": [],
   "source": [
    "# ESCRIBE TU CODIGO AQUI"
   ]
  },
  {
   "cell_type": "code",
   "execution_count": 10,
   "metadata": {},
   "outputs": [],
   "source": []
  },
  {
   "cell_type": "code",
   "execution_count": 11,
   "metadata": {},
   "outputs": [
    {
     "data": {
      "image/png": "[encoded data removed]",
      "text/plain": [
       "<Figure size 1152x288 with 1 Axes>"
      ]
     },
     "metadata": {
      "needs_background": "light"
     },
     "output_type": "display_data"
    }
   ],
   "source": []
  },
  {
   "cell_type": "markdown",
   "metadata": {},
   "source": [
    "### 5. Análisis de Sentimientos"
   ]
  },
  {
   "cell_type": "code",
   "execution_count": 15,
   "metadata": {},
   "outputs": [],
   "source": [
    "from textblob import TextBlob\n",
    "import re\n",
    "\n",
    "def clean_tweet(tweet):\n",
    "    '''\n",
    "    Función de utilidad para limpiar el texto de un tweet eliminando\n",
    "     enlaces y caracteres especiales que utilizan expresiones regulares.\n",
    "    '''\n",
    "    return ' '.join(re.sub(\"(@[A-Za-z0-9]+)|([^0-9A-Za-z \\t])|(\\w+:\\/\\/\\S+)\", \" \", tweet).split())\n",
    "\n",
    "def analize_sentiment(tweet):\n",
    "    '''\n",
    "    Función de utilidad para clasificar la polaridad de un tweet\n",
    "     usando textblob.\n",
    "    '''\n",
    "    analysis = TextBlob(clean_tweet(tweet))\n",
    "    if analysis.sentiment.polarity > 0:\n",
    "        return 1\n",
    "    elif analysis.sentiment.polarity == 0:\n",
    "        return 0\n",
    "    else:\n",
    "        return -1"
   ]
  },
  {
   "cell_type": "markdown",
   "metadata": {},
   "source": [
    "**(a) Crea una nueva columna llamada SA (Sentimental Analysis) en el dataframe data y asignale un valor de polaridad utilizando la funcion analize_sentiment()**"
   ]
  },
  {
   "cell_type": "code",
   "execution_count": null,
   "metadata": {},
   "outputs": [],
   "source": [
    "# ESCRIBE TU CODIGO AQUI"
   ]
  },
  {
   "cell_type": "code",
   "execution_count": 16,
   "metadata": {},
   "outputs": [
    {
     "data": {
      "text/html": [
       "<div>\n",
       "<style scoped>\n",
       "    .dataframe tbody tr th:only-of-type {\n",
       "        vertical-align: middle;\n",
       "    }\n",
       "\n",
       "    .dataframe tbody tr th {\n",
       "        vertical-align: top;\n",
       "    }\n",
       "\n",
       "    .dataframe thead th {\n",
       "        text-align: right;\n",
       "    }\n",
       "</style>\n",
       "<table border=\"1\" class=\"dataframe\">\n",
       "  <thead>\n",
       "    <tr style=\"text-align: right;\">\n",
       "      <th></th>\n",
       "      <th>created_at</th>\n",
       "      <th>text</th>\n",
       "      <th>len</th>\n",
       "      <th>likes</th>\n",
       "      <th>RTs</th>\n",
       "      <th>user_name</th>\n",
       "      <th>SA</th>\n",
       "    </tr>\n",
       "  </thead>\n",
       "  <tbody>\n",
       "    <tr>\n",
       "      <th>0</th>\n",
       "      <td>2021-11-10 23:59:49</td>\n",
       "      <td>👏 VAMOS #PERÚ👏 https://t.co/xWVkuocsjL</td>\n",
       "      <td>0</td>\n",
       "      <td>0</td>\n",
       "      <td>sportimba</td>\n",
       "      <td>NaN</td>\n",
       "      <td>0</td>\n",
       "    </tr>\n",
       "    <tr>\n",
       "      <th>1</th>\n",
       "      <td>2021-11-10 23:58:19</td>\n",
       "      <td>Un gran gusto y honor haber sido convocado por...</td>\n",
       "      <td>42</td>\n",
       "      <td>9</td>\n",
       "      <td>emilianox</td>\n",
       "      <td>NaN</td>\n",
       "      <td>0</td>\n",
       "    </tr>\n",
       "    <tr>\n",
       "      <th>2</th>\n",
       "      <td>2021-11-10 23:57:22</td>\n",
       "      <td>#OPPOA54 Unboxing y Primer contacto en Español...</td>\n",
       "      <td>1</td>\n",
       "      <td>1</td>\n",
       "      <td>KarlosPeru</td>\n",
       "      <td>NaN</td>\n",
       "      <td>0</td>\n",
       "    </tr>\n",
       "    <tr>\n",
       "      <th>3</th>\n",
       "      <td>2021-11-10 23:57:00</td>\n",
       "      <td>#10Nov  ✅Quieres Plata❓Juega y Gana Con @ReyLo...</td>\n",
       "      <td>1</td>\n",
       "      <td>0</td>\n",
       "      <td>LaLupaDelDinero</td>\n",
       "      <td>NaN</td>\n",
       "      <td>0</td>\n",
       "    </tr>\n",
       "    <tr>\n",
       "      <th>4</th>\n",
       "      <td>2021-11-10 23:57:00</td>\n",
       "      <td>Miguel y Kiara este fin de semana visitaron la...</td>\n",
       "      <td>1</td>\n",
       "      <td>1</td>\n",
       "      <td>ACTransparencia</td>\n",
       "      <td>NaN</td>\n",
       "      <td>0</td>\n",
       "    </tr>\n",
       "    <tr>\n",
       "      <th>5</th>\n",
       "      <td>2021-11-10 23:56:29</td>\n",
       "      <td>Ya pasaron 3 meses y no ha llegado la \"tercera...</td>\n",
       "      <td>0</td>\n",
       "      <td>0</td>\n",
       "      <td>Ros4Mia08</td>\n",
       "      <td>NaN</td>\n",
       "      <td>0</td>\n",
       "    </tr>\n",
       "    <tr>\n",
       "      <th>6</th>\n",
       "      <td>2021-11-10 23:55:37</td>\n",
       "      <td>@VirgiDArbulu #Perú estamos a tiempo, no esper...</td>\n",
       "      <td>8</td>\n",
       "      <td>4</td>\n",
       "      <td>h_1789</td>\n",
       "      <td>NaN</td>\n",
       "      <td>0</td>\n",
       "    </tr>\n",
       "    <tr>\n",
       "      <th>7</th>\n",
       "      <td>2021-11-10 23:55:10</td>\n",
       "      <td>@JuanC_Becerra @mccoam #Perú Pagada desde el 5...</td>\n",
       "      <td>0</td>\n",
       "      <td>0</td>\n",
       "      <td>JacquedeRod</td>\n",
       "      <td>NaN</td>\n",
       "      <td>0</td>\n",
       "    </tr>\n",
       "    <tr>\n",
       "      <th>8</th>\n",
       "      <td>2021-11-10 23:52:54</td>\n",
       "      <td>¿La decisión del presidente de #Perú les recue...</td>\n",
       "      <td>15</td>\n",
       "      <td>2</td>\n",
       "      <td>MVSNoticias</td>\n",
       "      <td>NaN</td>\n",
       "      <td>0</td>\n",
       "    </tr>\n",
       "    <tr>\n",
       "      <th>9</th>\n",
       "      <td>2021-11-10 23:50:52</td>\n",
       "      <td>Pʀᴏʏ Pᴀᴄʜᴀʏᴀᴄʜᴀʏ - Pᴀᴄʜᴀʏᴀᴛɪɴ̃ᴀ 🇵🇪 de EUROCLIM...</td>\n",
       "      <td>1</td>\n",
       "      <td>0</td>\n",
       "      <td>HelvetasPeru</td>\n",
       "      <td>NaN</td>\n",
       "      <td>0</td>\n",
       "    </tr>\n",
       "  </tbody>\n",
       "</table>\n",
       "</div>"
      ],
      "text/plain": [
       "            created_at                                               text  \\\n",
       "0  2021-11-10 23:59:49             👏 VAMOS #PERÚ👏 https://t.co/xWVkuocsjL   \n",
       "1  2021-11-10 23:58:19  Un gran gusto y honor haber sido convocado por...   \n",
       "2  2021-11-10 23:57:22  #OPPOA54 Unboxing y Primer contacto en Español...   \n",
       "3  2021-11-10 23:57:00  #10Nov  ✅Quieres Plata❓Juega y Gana Con @ReyLo...   \n",
       "4  2021-11-10 23:57:00  Miguel y Kiara este fin de semana visitaron la...   \n",
       "5  2021-11-10 23:56:29  Ya pasaron 3 meses y no ha llegado la \"tercera...   \n",
       "6  2021-11-10 23:55:37  @VirgiDArbulu #Perú estamos a tiempo, no esper...   \n",
       "7  2021-11-10 23:55:10  @JuanC_Becerra @mccoam #Perú Pagada desde el 5...   \n",
       "8  2021-11-10 23:52:54  ¿La decisión del presidente de #Perú les recue...   \n",
       "9  2021-11-10 23:50:52  Pʀᴏʏ Pᴀᴄʜᴀʏᴀᴄʜᴀʏ - Pᴀᴄʜᴀʏᴀᴛɪɴ̃ᴀ 🇵🇪 de EUROCLIM...   \n",
       "\n",
       "   len  likes              RTs  user_name  SA  \n",
       "0    0      0        sportimba        NaN   0  \n",
       "1   42      9        emilianox        NaN   0  \n",
       "2    1      1       KarlosPeru        NaN   0  \n",
       "3    1      0  LaLupaDelDinero        NaN   0  \n",
       "4    1      1  ACTransparencia        NaN   0  \n",
       "5    0      0        Ros4Mia08        NaN   0  \n",
       "6    8      4           h_1789        NaN   0  \n",
       "7    0      0      JacquedeRod        NaN   0  \n",
       "8   15      2      MVSNoticias        NaN   0  \n",
       "9    1      0     HelvetasPeru        NaN   0  "
      ]
     },
     "metadata": {},
     "output_type": "display_data"
    }
   ],
   "source": []
  },
  {
   "cell_type": "markdown",
   "metadata": {},
   "source": [
    "**(b) Obten la cantidad total de tweets positivos, neutrales y negativos**"
   ]
  },
  {
   "cell_type": "code",
   "execution_count": null,
   "metadata": {},
   "outputs": [],
   "source": [
    "# ESCRIBE TU CODIGO AQUI"
   ]
  },
  {
   "cell_type": "code",
   "execution_count": 17,
   "metadata": {},
   "outputs": [
    {
     "name": "stdout",
     "output_type": "stream",
     "text": [
      "Cantidad de tweets positivos :  152\n",
      "Cantidad de tweets neutrales:  4439\n",
      "Cantidad de tweets negativos:  55\n"
     ]
    }
   ],
   "source": []
  },
  {
   "cell_type": "markdown",
   "metadata": {},
   "source": [
    "**(c) Obten el % de tweets positivos, neutrales y negativos**"
   ]
  },
  {
   "cell_type": "code",
   "execution_count": null,
   "metadata": {},
   "outputs": [],
   "source": [
    "# ESCRIBE TU CODIGO AQUI"
   ]
  },
  {
   "cell_type": "code",
   "execution_count": 18,
   "metadata": {},
   "outputs": [
    {
     "name": "stdout",
     "output_type": "stream",
     "text": [
      "Percentaje de tweets positivos : 3.2716315109771847%\n",
      "Percentaje de tweets neutrales: 95.54455445544555%\n",
      "Percentaje de tweets negativos: 1.1838140335772707%\n"
     ]
    }
   ],
   "source": []
  },
  {
   "cell_type": "markdown",
   "metadata": {},
   "source": [
    "**Que opinas de los % obtenidos?** LOS PERUANOS SOMOS NEUTRALES?"
   ]
  },
  {
   "cell_type": "markdown",
   "metadata": {},
   "source": [
    "## Buen trabajo!"
   ]
  }
 ],
 "metadata": {
  "kernelspec": {
   "display_name": "Python 3 (ipykernel)",
   "language": "python",
   "name": "python3"
  },
  "language_info": {
   "codemirror_mode": {
    "name": "ipython",
    "version": 3
   },
   "file_extension": ".py",
   "mimetype": "text/x-python",
   "name": "python",
   "nbconvert_exporter": "python",
   "pygments_lexer": "ipython3",
   "version": "3.8.12"
  }
 },
 "nbformat": 4,
 "nbformat_minor": 4
}
