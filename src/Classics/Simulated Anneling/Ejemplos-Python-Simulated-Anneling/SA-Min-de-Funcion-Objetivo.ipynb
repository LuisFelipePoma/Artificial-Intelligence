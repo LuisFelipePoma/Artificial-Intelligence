{
 "cells": [
  {
   "cell_type": "markdown",
   "metadata": {},
   "source": [
    "### Algoritmo de Busqueda Simulated Anneling"
   ]
  },
  {
   "cell_type": "markdown",
   "metadata": {},
   "source": [
    "#### Solución al problema de encontrar el mínimo valor de una función objetivo"
   ]
  },
  {
   "cell_type": "markdown",
   "metadata": {},
   "source": [
    "**Problema:** Utilizando el algoritmo Simulated Anneling, y ajustando los valores de x1 y x2, encontrar el minimo global de la siguiente función objetivo:"
   ]
  },
  {
   "attachments": {
    "funcion_objetivo.png": {
     "image/png": "[encoded data removed]"
    }
   },
   "cell_type": "markdown",
   "metadata": {},
   "source": [
    "![funcion_objetivo.png](attachment:funcion_objetivo.png)"
   ]
  },
  {
   "cell_type": "markdown",
   "metadata": {},
   "source": [
    "Importamos las librerias necesarias"
   ]
  },
  {
   "cell_type": "code",
   "execution_count": null,
   "metadata": {},
   "outputs": [],
   "source": [
    "# Importar algunas otras bibliotecas que necesitaremos\n",
    "# También se deben instalar los paquetes matplotlib y numpy\n",
    "import matplotlib\n",
    "import numpy as np\n",
    "import matplotlib.pyplot as plt\n",
    "import random\n",
    "import math"
   ]
  },
  {
   "cell_type": "markdown",
   "metadata": {},
   "source": [
    "Definimos la función objetivo como **f**"
   ]
  },
  {
   "cell_type": "code",
   "execution_count": null,
   "metadata": {},
   "outputs": [],
   "source": [
    "# definir la función objetivo\n",
    "def f(x):\n",
    "    x1 = x[0]\n",
    "    x2 = x[1]\n",
    "    obj = 0.2 + x1**2 + x2**2 - 0.1*math.cos(6.0*3.1415*x1) - 0.1*math.cos(6.0*3.1415*x2)\n",
    "    return obj"
   ]
  },
  {
   "cell_type": "markdown",
   "metadata": {},
   "source": [
    "Seleccionamos un valor de inicio que se encuentre entre -1 y 1"
   ]
  },
  {
   "cell_type": "code",
   "execution_count": null,
   "metadata": {},
   "outputs": [],
   "source": [
    "# Ubicación de inicio aleatoria en un espacio entre 1 y -1\n",
    "x_start = [0.8, -0.5]"
   ]
  },
  {
   "cell_type": "markdown",
   "metadata": {},
   "source": [
    "**Espacio de busqueda:** Creamos una matriz con valores entre -1 y 1 y les aplicamos la funcion objetivo"
   ]
  },
  {
   "cell_type": "code",
   "execution_count": null,
   "metadata": {},
   "outputs": [],
   "source": [
    "# Variables (puntos en el plano cartesiano) con valores entre 1 y -1 que cumplen con la funcion objetivo\n",
    "i1 = np.arange(-1.0, 1.0, 0.01)\n",
    "i2 = np.arange(-1.0, 1.0, 0.01)\n",
    "x1m, x2m = np.meshgrid(i1, i2)\n",
    "fm = np.zeros(x1m.shape)\n",
    "for i in range(x1m.shape[0]):\n",
    "    for j in range(x1m.shape[1]):\n",
    "        fm[i][j] = 0.2 + x1m[i][j]**2 + x2m[i][j]**2 \\\n",
    "            - 0.1*math.cos(6.0*3.1415*x1m[i][j]) \\\n",
    "            - 0.1*math.cos(6.0*3.1415*x2m[i][j])"
   ]
  },
  {
   "cell_type": "markdown",
   "metadata": {},
   "source": [
    "Visualizamos el espacio de busqueda generado "
   ]
  },
  {
   "cell_type": "code",
   "execution_count": null,
   "metadata": {},
   "outputs": [],
   "source": [
    "# Crear una gráfica del espacio de busqueda\n",
    "plt.figure()\n",
    "# Dibujar contornos\n",
    "CS = plt.contour(x1m, x2m, fm)\n",
    "# Etiquetas del espacio\n",
    "plt.clabel(CS, inline=1, fontsize=10)\n",
    "# texto a la visualizacion\n",
    "plt.title('Espacio de Busqueda')\n",
    "plt.xlabel('x1')\n",
    "plt.ylabel('x2')"
   ]
  },
  {
   "cell_type": "markdown",
   "metadata": {},
   "source": [
    "### Codificamos el Algoritmo Simulated Anneling"
   ]
  },
  {
   "cell_type": "markdown",
   "metadata": {},
   "source": [
    "**Condiciones de busqueda**"
   ]
  },
  {
   "cell_type": "code",
   "execution_count": null,
   "metadata": {},
   "outputs": [],
   "source": [
    "# Número de ciclos\n",
    "n = 50\n",
    "# Número de ensayos por ciclo\n",
    "m = 50\n",
    "# Número de soluciones aceptadas\n",
    "na = 0.0\n",
    "# Probabilidad de aceptar una peor solución al principio (por lo general es de 70 a 80%)\n",
    "p1 = 0.7\n",
    "# Probabilidad de aceptar una peor solución al final (cercano a cero)\n",
    "p50 = 0.001\n",
    "# Temperatura inicial (la mas alta)\n",
    "t1 = -1.0/math.log(p1)\n",
    "# Final temperature (la mas baja)\n",
    "t50 = -1.0/math.log(p50)\n",
    "# Reducción fraccionada en cada ciclo = cuanto reduciremos la temperatura en cada ciclo\n",
    "frac = (t50/t1)**(1.0/(n-1.0))"
   ]
  },
  {
   "cell_type": "code",
   "execution_count": null,
   "metadata": {},
   "outputs": [],
   "source": [
    "##################################################\n",
    "# Algoritmo Simulated Annealing\n",
    "##################################################\n",
    "# Inicializamos los 'n' valores de x con 0\n",
    "x = np.zeros((n+1,2))\n",
    "x[0] = x_start\n",
    "xi = np.zeros(2)\n",
    "xi = x_start\n",
    "na = na + 1.0\n",
    "# mejores resultados actuales hasta ahora\n",
    "xc = np.zeros(2) # Contendra las mejores soluciones\n",
    "xc = x[0]  # x_start = [0.8, -0.5]\n",
    "fc = f(xi) # fc contiene el valor de la funcion objetivo para el estado inicial x_start = [0.8, -0.5]\n",
    "fs = np.zeros(n+1) \n",
    "fs[0] = fc # fc contiene el valor de la funcion objetivo para el estado inicial x_start = [0.8, -0.5]\n",
    "# Temperatura actual\n",
    "t = t1\n",
    "# Promedio DeltaE\n",
    "DeltaE_avg = 0.0\n",
    "for i in range(n):\n",
    "    print('Ciclo: ' + str(i) + ' con temperatura: ' + str(t))\n",
    "    for j in range(m):\n",
    "        # Genera nuevos puntos de prueba - Recordar que los puntos iniciales de prueba eran x_start = [0.8, -0.5]\n",
    "        xi[0] = xc[0] + random.random() - 0.5\n",
    "        xi[1] = xc[1] + random.random() - 0.5\n",
    "        # Recortar a los límites superior e inferior\n",
    "        xi[0] = max(min(xi[0],1.0),-1.0)\n",
    "        xi[1] = max(min(xi[1],1.0),-1.0)\n",
    "        DeltaE = abs(f(xi)-fc) #Diferencia de energias\n",
    "        if (f(xi)>fc):\n",
    "            # Inicializar DeltaE_avg si se encontró una solución peor\n",
    "            # en la primera iteración\n",
    "            if (i==0 and j==0): DeltaE_avg = DeltaE\n",
    "            # la función objetivo es peor\n",
    "            # generar probabilidad de aceptación\n",
    "            p = math.exp(-DeltaE/(DeltaE_avg * t))\n",
    "            # determinar si aceptar un punto peor\n",
    "            if (random.random()<p):\n",
    "                # acepta la peor solución\n",
    "                accept = True\n",
    "            else:\n",
    "                # no aceptes la peor solución\n",
    "                accept = False\n",
    "        else:\n",
    "            # la función objetivo es menor, aceptarla automáticamente\n",
    "            accept = True\n",
    "        if (accept==True):\n",
    "            # actualizar la solución actualmente aceptada\n",
    "            xc[0] = xi[0]\n",
    "            xc[1] = xi[1]\n",
    "            fc = f(xc)\n",
    "            # Incrementar el número de soluciones aceptadas.\n",
    "            na = na + 1.0\n",
    "            # actualizar DeltaE_avg\n",
    "            DeltaE_avg = (DeltaE_avg * (na-1.0) +  DeltaE) / na\n",
    "    # Registrar los mejores valores de x al final de cada ciclo\n",
    "    x[i+1][0] = xc[0]\n",
    "    x[i+1][1] = xc[1]\n",
    "    fs[i+1] = fc\n",
    "    # Bajar la temperatura para el próximo ciclo\n",
    "    t = frac * t"
   ]
  },
  {
   "cell_type": "markdown",
   "metadata": {},
   "source": [
    "**Visualizamos la solución encontrada**"
   ]
  },
  {
   "cell_type": "code",
   "execution_count": null,
   "metadata": {},
   "outputs": [],
   "source": [
    "# visualizar solución\n",
    "print('Mejor solución x1 y x2: ' + str(xc))\n",
    "print('Mejor funcion objetivo: ' + str(fc))\n",
    "\n",
    "plt.plot(x[:,0],x[:,1],'y-o')\n",
    "plt.savefig('contour.png')"
   ]
  },
  {
   "cell_type": "markdown",
   "metadata": {},
   "source": [
    "**Comparamos la funcion objetivo vs valores aceptados despues de cada ciclo**"
   ]
  },
  {
   "cell_type": "code",
   "execution_count": null,
   "metadata": {},
   "outputs": [],
   "source": [
    "fig = plt.figure()\n",
    "ax1 = fig.add_subplot(211)\n",
    "ax1.plot(fs,'r.-') # Visualiza los valores de la funcion objetivo para cada ciclo\n",
    "ax1.legend(['Objetivo'])\n",
    "ax2 = fig.add_subplot(212)\n",
    "ax2.plot(x[:,0],'b.-') # Visualiza en lineas azules mejores valores aceptados despues de cada ciclo\n",
    "ax2.plot(x[:,1],'g--') # Visualiza en lineas verdes mejores valores aceptados despues de cada ciclo\n",
    "ax2.legend(['x1','x2'])\n",
    "\n",
    "# Guardamos la figura como PNG\n",
    "plt.savefig('iterations.png')\n",
    "\n",
    "plt.show()"
   ]
  }
 ],
 "metadata": {
  "kernelspec": {
   "display_name": "Python 3",
   "language": "python",
   "name": "python3"
  },
  "language_info": {
   "codemirror_mode": {
    "name": "ipython",
    "version": 3
   },
   "file_extension": ".py",
   "mimetype": "text/x-python",
   "name": "python",
   "nbconvert_exporter": "python",
   "pygments_lexer": "ipython3",
   "version": "3.8.5"
  }
 },
 "nbformat": 4,
 "nbformat_minor": 4
}
