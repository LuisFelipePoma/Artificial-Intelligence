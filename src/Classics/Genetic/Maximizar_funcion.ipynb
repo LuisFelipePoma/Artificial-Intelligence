{
 "cells": [
  {
   "cell_type": "markdown",
   "metadata": {},
   "source": [
    "# Maximizar una función"
   ]
  },
  {
   "cell_type": "markdown",
   "metadata": {},
   "source": [
    "Fuente: \n",
    "\n",
    "https://www.youtube.com/watch?v=_ZxrvAi0Mk0\n",
    "\n",
    "https://github.com/danielTeniente/ia-projects\n",
    "\n",
    "\n",
    "Hoy voy a explicar dos enfoques de algoritmos genéticos para maximizar una función no lineal. Este problema fue el primero que resolví con algoritmos genéticos y fue toda una experiencia."
   ]
  },
  {
   "cell_type": "code",
   "execution_count": 40,
   "metadata": {},
   "outputs": [],
   "source": [
    "#importo las bibliotecas necesarias\n",
    "import matplotlib.pyplot as plt\n",
    "import numpy as np\n",
    "import math"
   ]
  },
  {
   "cell_type": "markdown",
   "metadata": {},
   "source": [
    "## El problema"
   ]
  },
  {
   "cell_type": "markdown",
   "metadata": {},
   "source": [
    "Debemos encontrar el valor de $x$ que maximice el valor de $y$ en la siguiente función."
   ]
  },
  {
   "cell_type": "code",
   "execution_count": 41,
   "metadata": {},
   "outputs": [],
   "source": [
    "def fx(x):\n",
    "    return -(0.1+(1-x)**2-0.1*math.cos(6*math.pi*(1-x)))+2"
   ]
  },
  {
   "cell_type": "code",
   "execution_count": 42,
   "metadata": {},
   "outputs": [],
   "source": [
    "y_axis = []\n",
    "x_axis=np.arange(0,2,0.02)\n",
    "\n",
    "for num in x_axis:\n",
    "    y_axis.append(fx(num))\n"
   ]
  },
  {
   "cell_type": "code",
   "execution_count": 43,
   "metadata": {},
   "outputs": [
    {
     "data": {
      "text/plain": [
       "[<matplotlib.lines.Line2D at 0x1fc43857520>]"
      ]
     },
     "execution_count": 43,
     "metadata": {},
     "output_type": "execute_result"
    },
    {
     "data": {
      "image/png": "[encoded data removed]",
      "text/plain": [
       "<Figure size 432x288 with 1 Axes>"
      ]
     },
     "metadata": {
      "needs_background": "light"
     },
     "output_type": "display_data"
    }
   ],
   "source": [
    "plt.plot(x_axis,y_axis)"
   ]
  },
  {
   "cell_type": "markdown",
   "metadata": {},
   "source": [
    "Como se puede observar arriba, la función tiene varios máximos y mínimos locales. El objetivo es llegar al punto más alto que se encuentra en $x=1$."
   ]
  },
  {
   "cell_type": "markdown",
   "metadata": {},
   "source": [
    "Aquí realicé dos enfoques, uno donde los genes se representan mediante números decimales y otro donde se representan mediante código binario. Esto produce resultados interesantes, pero lo importante es entender los componentes principales del algoritmo genético. Así que avanzaré primero con el enfoque más obvio y luego pasaré al código binario."
   ]
  },
  {
   "cell_type": "markdown",
   "metadata": {},
   "source": [
    "## Algoritmos genéticos"
   ]
  },
  {
   "cell_type": "markdown",
   "metadata": {},
   "source": [
    "### Representación de los genes"
   ]
  },
  {
   "cell_type": "markdown",
   "metadata": {},
   "source": [
    "Primero, tenemos que planificar qué representan los genes de nuestros individuos. Los genes deben tener la capacidad de resolver el problema, aunque no lo hagan de forma inmediata; y su efectividad debe poder medirse con precisión."
   ]
  },
  {
   "cell_type": "code",
   "execution_count": 44,
   "metadata": {},
   "outputs": [],
   "source": [
    "#individuo de ejemplo \n",
    "x = 0.54\n",
    "y = fx(x)"
   ]
  },
  {
   "cell_type": "code",
   "execution_count": 45,
   "metadata": {},
   "outputs": [
    {
     "data": {
      "text/plain": [
       "[<matplotlib.lines.Line2D at 0x1fc438aa430>]"
      ]
     },
     "execution_count": 45,
     "metadata": {},
     "output_type": "execute_result"
    },
    {
     "data": {
      "image/png": "[encoded data removed]",
      "text/plain": [
       "<Figure size 432x288 with 1 Axes>"
      ]
     },
     "metadata": {
      "needs_background": "light"
     },
     "output_type": "display_data"
    }
   ],
   "source": [
    "plt.plot(x_axis,y_axis)\n",
    "plt.plot(x,y,'x')"
   ]
  },
  {
   "cell_type": "markdown",
   "metadata": {},
   "source": [
    "El individuo de ejemplo se encuentra representado por una x en el gráfico superior. Así que nuestra población debe estar compuesta por números que van desde $0$ hasta $2$. Sabiendo esto, nuestros genes pueden representar valores decimales de ese número."
   ]
  },
  {
   "cell_type": "code",
   "execution_count": 46,
   "metadata": {},
   "outputs": [],
   "source": [
    "#individuo de ejemplo \n",
    "#x = 0.54\n",
    "x = [0,5,4]"
   ]
  },
  {
   "cell_type": "markdown",
   "metadata": {},
   "source": [
    "Necesitamos representar los genes como una lista para poder realizar la mutación y el entrecruzamiento. Así que debemos manejar una función que convierta una lista en números decimales."
   ]
  },
  {
   "cell_type": "code",
   "execution_count": 47,
   "metadata": {},
   "outputs": [],
   "source": [
    "def listToDecimal(num):\n",
    "    decimal=0\n",
    "    for i in range(len(num)):\n",
    "        decimal+=num[i]*10**(-i)\n",
    "    return decimal"
   ]
  },
  {
   "cell_type": "code",
   "execution_count": 48,
   "metadata": {},
   "outputs": [
    {
     "data": {
      "text/plain": [
       "0.54"
      ]
     },
     "execution_count": 48,
     "metadata": {},
     "output_type": "execute_result"
    }
   ],
   "source": [
    "listToDecimal(x)"
   ]
  },
  {
   "cell_type": "markdown",
   "metadata": {},
   "source": [
    "Para hacer esto más interesante me gustaría manejar individuos con un código genético más grande, así que voy a definir un `ind_size` con el cual generaré un primer código genético aleatorio. "
   ]
  },
  {
   "cell_type": "code",
   "execution_count": 49,
   "metadata": {},
   "outputs": [
    {
     "data": {
      "text/plain": [
       "[0, 9, 4, 5, 0, 4, 5, 1, 9, 7, 4, 4, 2, 3, 5]"
      ]
     },
     "execution_count": 49,
     "metadata": {},
     "output_type": "execute_result"
    }
   ],
   "source": [
    "ind_size = 15\n",
    "#Genetic pool\n",
    "genetic_pool=[[0,1],[0,1,2,3,4,5,6,7,8,9]]\n",
    "\n",
    "individuo = []\n",
    "individuo += [np.random.choice(genetic_pool[0])]\n",
    "individuo += list(np.random.choice(genetic_pool[1],ind_size-1))\n",
    "\n",
    "individuo"
   ]
  },
  {
   "cell_type": "markdown",
   "metadata": {},
   "source": [
    "Acabo de generar un individuo cuyo código genético está compuesto de 15 genes. Estos genes fueron elegidots de un `genetic_pool` que representa todos los valores que pueden tomar los genes.  \n",
    "Ya que nuestro individuo está definido entre 0 y 2, decidí colocar un pool distinto donde sólo puede tomar `[0,1]` para la parte entera, si llegase a tomar `2` es muy probable que se salga del rango. La parte decimal utiliza un pool de 0 a 9, así que el valor máximo que puede tomar el individuo es $1.9999...$ y el mínimo $0.0000...$"
   ]
  },
  {
   "cell_type": "code",
   "execution_count": 50,
   "metadata": {},
   "outputs": [
    {
     "data": {
      "text/plain": [
       "0.94504519744235"
      ]
     },
     "execution_count": 50,
     "metadata": {},
     "output_type": "execute_result"
    }
   ],
   "source": [
    "listToDecimal(individuo)"
   ]
  },
  {
   "cell_type": "markdown",
   "metadata": {},
   "source": [
    "Al convertir la lista en decimal podemos notar una pequeña variación al final debido a la forma en que python realiza la suma de punto flotante, pero nada de mucho peso."
   ]
  },
  {
   "cell_type": "code",
   "execution_count": 51,
   "metadata": {},
   "outputs": [
    {
     "data": {
      "text/plain": [
       "[[0, 6, 5, 2, 5, 9, 4, 1, 8, 4, 9, 3, 6, 0, 4],\n",
       " [1, 3, 3, 8, 4, 8, 5, 6, 8, 6, 6, 7, 4, 7, 0],\n",
       " [1, 3, 0, 0, 4, 6, 0, 4, 3, 1, 9, 0, 1, 1, 5],\n",
       " [1, 1, 6, 5, 8, 0, 4, 8, 0, 3, 6, 8, 8, 3, 7],\n",
       " [0, 3, 9, 0, 3, 5, 0, 2, 9, 5, 4, 4, 7, 9, 3],\n",
       " [1, 0, 8, 2, 0, 6, 6, 1, 4, 3, 8, 9, 3, 0, 1],\n",
       " [1, 6, 9, 7, 1, 0, 7, 2, 3, 0, 8, 9, 3, 2, 1],\n",
       " [0, 8, 4, 4, 2, 4, 3, 1, 4, 2, 5, 2, 9, 1, 2],\n",
       " [0, 3, 0, 3, 8, 8, 3, 8, 1, 4, 2, 9, 8, 4, 8],\n",
       " [1, 6, 6, 9, 6, 8, 7, 9, 0, 4, 8, 7, 6, 1, 4]]"
      ]
     },
     "execution_count": 51,
     "metadata": {},
     "output_type": "execute_result"
    }
   ],
   "source": [
    "poblacion = []\n",
    "\n",
    "for i in range(100):\n",
    "    individuo = []\n",
    "    individuo += [np.random.choice(genetic_pool[0])]\n",
    "    individuo += list(np.random.choice(genetic_pool[1],ind_size-1))\n",
    "    poblacion.append(individuo)\n",
    "poblacion[:10]"
   ]
  },
  {
   "cell_type": "markdown",
   "metadata": {},
   "source": [
    "Finalmente, genero una población llena de individuos con genes aleatorios. De esta población vamos a elegir los mejores para reproducirlos.  \n",
    "Abajo observarás cómo se encuentra repartida la población."
   ]
  },
  {
   "cell_type": "code",
   "execution_count": 52,
   "metadata": {},
   "outputs": [
    {
     "data": {
      "text/plain": [
       "[<matplotlib.lines.Line2D at 0x1fc43a1aa60>]"
      ]
     },
     "execution_count": 52,
     "metadata": {},
     "output_type": "execute_result"
    },
    {
     "data": {
      "image/png": "[encoded data removed]",
      "text/plain": [
       "<Figure size 432x288 with 1 Axes>"
      ]
     },
     "metadata": {
      "needs_background": "light"
     },
     "output_type": "display_data"
    }
   ],
   "source": [
    "for individuo in poblacion:\n",
    "    x = listToDecimal(individuo)\n",
    "    y = fx(x)\n",
    "    plt.plot(x,y,'x')\n",
    "plt.plot(x_axis,y_axis)"
   ]
  },
  {
   "cell_type": "markdown",
   "metadata": {},
   "source": [
    "### Medición del éxito"
   ]
  },
  {
   "cell_type": "markdown",
   "metadata": {},
   "source": [
    "Esto se suele llamar fitness. Aquí vamos a medir el éxito del individuo para cumplir con el objetivo y determinar la probabilidad que tendrá de reproducirse.  \n",
    "Ya que queremos maximizar una función, aquellos individuos que produzcan un valor más alto en $y$ serán seleccionados como los mejores."
   ]
  },
  {
   "cell_type": "code",
   "execution_count": 53,
   "metadata": {},
   "outputs": [],
   "source": [
    "fitness =[]\n",
    "\n",
    "#extraigo los valores de y para medir su éxito\n",
    "for individuo in poblacion:\n",
    "    x = listToDecimal(individuo)\n",
    "    y = fx(x)\n",
    "    fitness += [y]\n",
    "    \n",
    "#convierto fitnees en un vector para realizar operaciones\n",
    "#más fácilmente\n",
    "fitness = np.array(fitness)\n",
    "\n",
    "#divido todos los valores de y para la suma total\n",
    "#y así obtener valores entre 0 y 1\n",
    "fitness=fitness/fitness.sum()"
   ]
  },
  {
   "cell_type": "code",
   "execution_count": 54,
   "metadata": {},
   "outputs": [
    {
     "data": {
      "text/plain": [
       "array([0.01193253, 0.0119907 , 0.01202999, 0.01127548, 0.01002486,\n",
       "       0.01205875, 0.00952934, 0.01130935, 0.00954448, 0.00986858,\n",
       "       0.0126011 , 0.00673946, 0.01183537, 0.01174313, 0.01130794,\n",
       "       0.01111224, 0.00990192, 0.01205278, 0.01245572, 0.01003767,\n",
       "       0.01180468, 0.00999841, 0.00979235, 0.01117805, 0.01004293,\n",
       "       0.00976621, 0.0064356 , 0.00674179, 0.00694084, 0.01136056,\n",
       "       0.006686  , 0.00995229, 0.0099316 , 0.00977029, 0.01205317,\n",
       "       0.00674736, 0.00693941, 0.01267633, 0.0124668 , 0.00976514,\n",
       "       0.01197045, 0.00673881, 0.01128401, 0.0074308 , 0.01144125,\n",
       "       0.00983929, 0.01019071, 0.00981392, 0.00741592, 0.00659352,\n",
       "       0.00832132, 0.00661708, 0.00707399, 0.00677733, 0.01192642,\n",
       "       0.00884287, 0.01247816, 0.01219847, 0.01010898, 0.00984334,\n",
       "       0.00668306, 0.00674205, 0.00691465, 0.01158918, 0.01252502,\n",
       "       0.01006351, 0.01204363, 0.01128115, 0.01169106, 0.01005044,\n",
       "       0.00653673, 0.01162458, 0.01192591, 0.00679166, 0.00986557,\n",
       "       0.01014119, 0.00800291, 0.01087367, 0.01173003, 0.00958752,\n",
       "       0.01267554, 0.01046245, 0.0120288 , 0.00674043, 0.00653586,\n",
       "       0.01172373, 0.0112235 , 0.01188614, 0.00981238, 0.0104518 ,\n",
       "       0.00981558, 0.00985229, 0.01231259, 0.00861423, 0.01004899,\n",
       "       0.01011435, 0.0100437 , 0.00923993, 0.01156715, 0.01087925])"
      ]
     },
     "execution_count": 54,
     "metadata": {},
     "output_type": "execute_result"
    }
   ],
   "source": [
    "fitness"
   ]
  },
  {
   "cell_type": "markdown",
   "metadata": {},
   "source": [
    "Todos los valores de $y$ se dividen entre la suma total para obtener una probabilidad. La operación realizada arriba sirve para representar porcentajes. Por ejemplo, si tengo dos números: `[8,5]`, cuando los divido para la suma obtengo el porcentaje que representan del total:"
   ]
  },
  {
   "cell_type": "code",
   "execution_count": 55,
   "metadata": {},
   "outputs": [
    {
     "data": {
      "text/plain": [
       "array([0.61538462, 0.38461538])"
      ]
     },
     "execution_count": 55,
     "metadata": {},
     "output_type": "execute_result"
    }
   ],
   "source": [
    "array = np.array([8,5])\n",
    "array = array/array.sum()\n",
    "array"
   ]
  },
  {
   "cell_type": "markdown",
   "metadata": {},
   "source": [
    "Si trabajo con números que sumen diez será más fácil visualizarlo. "
   ]
  },
  {
   "cell_type": "code",
   "execution_count": 56,
   "metadata": {},
   "outputs": [
    {
     "data": {
      "text/plain": [
       "array([0.8, 0.2])"
      ]
     },
     "execution_count": 56,
     "metadata": {},
     "output_type": "execute_result"
    }
   ],
   "source": [
    "array = np.array([8,2])\n",
    "array = array/array.sum()\n",
    "array"
   ]
  },
  {
   "cell_type": "markdown",
   "metadata": {},
   "source": [
    "Los números más grandes producen un porcentaje mayor, y ya que la probabilidad se mide entre 0 y 1, esto ya nos permite darle una probabilidad mayor de reproducirse a los mejores individuos, aquellos que obtuvieron números más grandes en $y$."
   ]
  },
  {
   "cell_type": "markdown",
   "metadata": {},
   "source": [
    "### Entrecruzamiento"
   ]
  },
  {
   "cell_type": "markdown",
   "metadata": {},
   "source": [
    "El entrecruzamiento consiste en mezclar los genes de los mejores individuos. En este caso vamos a elegir dos padres al azar, de acuerdo a la probabilidad del fitness, para que produzcan un nuevo individuo.  \n",
    "Es importante no descartar de lleno a los peores individuos ya que, tal vez, su código genético puede servir para lograr algo mejor más tarde.  \n",
    "Luego, se elige un `cross_point` a partir del cual se van a combinar los genes de los padres. Se va a copiar los genes del primer padre hasta este punto, y luego los genes del otro padre."
   ]
  },
  {
   "cell_type": "code",
   "execution_count": 57,
   "metadata": {},
   "outputs": [],
   "source": [
    "size_poblacion = len(poblacion)\n",
    "#hijos\n",
    "offspring = []\n",
    "for i in range(size_poblacion//2):\n",
    "    parents = np.random.choice(size_poblacion, 2, p=fitness)\n",
    "    cross_point = np.random.randint(ind_size)\n",
    "    offspring += [poblacion[parents[0]][:cross_point] + poblacion[parents[1]][cross_point:]]\n",
    "    offspring += [poblacion[parents[1]][:cross_point] + poblacion[parents[0]][cross_point:]]"
   ]
  },
  {
   "cell_type": "code",
   "execution_count": 58,
   "metadata": {},
   "outputs": [
    {
     "data": {
      "text/plain": [
       "[[1, 6, 9, 3, 2, 6, 5, 1, 5, 1, 5, 8, 9, 9, 7],\n",
       " [0, 5, 2, 9, 7, 2, 2, 8, 2, 5, 6, 1, 8, 8, 5],\n",
       " [0, 5, 9, 7, 4, 8, 8, 7, 1, 3, 9, 7, 3, 0, 8],\n",
       " [0, 1, 5, 3, 8, 9, 7, 3, 3, 2, 8, 1, 4, 9, 9],\n",
       " [0, 8, 4, 4, 2, 4, 3, 0, 1, 0, 6, 3, 6, 2, 5],\n",
       " [0, 6, 3, 8, 5, 9, 7, 1, 4, 2, 5, 2, 9, 1, 2],\n",
       " [1, 4, 7, 6, 8, 4, 1, 8, 7, 2, 8, 9, 2, 7, 3],\n",
       " [1, 6, 2, 3, 6, 0, 7, 8, 4, 0, 2, 5, 5, 9, 1],\n",
       " [0, 3, 2, 8, 5, 8, 0, 5, 6, 1, 1, 9, 3, 8, 7],\n",
       " [0, 5, 5, 2, 4, 4, 8, 0, 7, 4, 6, 8, 7, 8, 5]]"
      ]
     },
     "execution_count": 58,
     "metadata": {},
     "output_type": "execute_result"
    }
   ],
   "source": [
    "offspring[:10]"
   ]
  },
  {
   "cell_type": "code",
   "execution_count": 59,
   "metadata": {},
   "outputs": [
    {
     "data": {
      "text/plain": [
       "[<matplotlib.lines.Line2D at 0x1fc43b9a370>]"
      ]
     },
     "execution_count": 59,
     "metadata": {},
     "output_type": "execute_result"
    },
    {
     "data": {
      "image/png": "[encoded data removed]",
      "text/plain": [
       "<Figure size 432x288 with 1 Axes>"
      ]
     },
     "metadata": {
      "needs_background": "light"
     },
     "output_type": "display_data"
    }
   ],
   "source": [
    "poblacion = offspring\n",
    "for individuo in poblacion:\n",
    "    x = listToDecimal(individuo)\n",
    "    y = fx(x)\n",
    "    plt.plot(x,y,'x')\n",
    "plt.plot(x_axis,y_axis)"
   ]
  },
  {
   "cell_type": "markdown",
   "metadata": {},
   "source": [
    "En una sola generación podemos ver que los individuos ya se están concentrando en puntos más altos de la función. A medida que pasen las generaciones el objetivo es que todos los individuos convergan alrededor de 1."
   ]
  },
  {
   "cell_type": "markdown",
   "metadata": {},
   "source": [
    "### Mutaciones"
   ]
  },
  {
   "cell_type": "markdown",
   "metadata": {},
   "source": [
    "Otro aspecto interesante del algoritmo genético es la probabilidad de que se produzca una mutación en los individuos. Lo que significa que el ADN de cualquier individuo puede producir un gen que no viene de sus padres.  \n",
    "El individuo `[0,5,3,8,9]` puede mutar a `[0,5,4,8,9]` y esto mantiene la puerta abierta hacia el mejoramiento de la población."
   ]
  },
  {
   "cell_type": "code",
   "execution_count": 60,
   "metadata": {},
   "outputs": [],
   "source": [
    "def mutate(individuals, prob, pool):\n",
    "    for i in range(len(individuals)):\n",
    "        mutate_individual=individuals[i]\n",
    "        if np.random.random() < prob:\n",
    "            mutation = np.random.choice(pool[0])\n",
    "            mutate_individual = [mutation] + mutate_individual[1:]\n",
    "        \n",
    "        for j in range(1,len(mutate_individual)):\n",
    "            if np.random.random() < prob:\n",
    "                mutation = np.random.choice(pool[1])\n",
    "                mutate_individual = mutate_individual[0:j] + [mutation] + mutate_individual[j+1:]\n",
    "        individuals[i] = mutate_individual"
   ]
  },
  {
   "cell_type": "code",
   "execution_count": 61,
   "metadata": {},
   "outputs": [
    {
     "data": {
      "text/plain": [
       "[[1, 6, 9, 3, 2, 6, 5, 1, 5, 1, 5, 8, 9, 9, 7],\n",
       " [0, 5, 2, 9, 7, 2, 2, 8, 2, 5, 6, 1, 8, 8, 5],\n",
       " [0, 5, 9, 7, 4, 8, 8, 7, 1, 3, 9, 7, 3, 0, 8],\n",
       " [0, 1, 5, 3, 8, 9, 7, 3, 3, 2, 8, 1, 4, 9, 9],\n",
       " [0, 8, 4, 4, 2, 4, 3, 0, 1, 0, 6, 3, 6, 2, 5],\n",
       " [0, 6, 3, 8, 5, 9, 7, 1, 4, 2, 5, 2, 9, 1, 2],\n",
       " [1, 4, 7, 6, 8, 4, 1, 8, 7, 2, 8, 9, 2, 7, 3],\n",
       " [1, 6, 2, 7, 6, 0, 7, 8, 4, 0, 2, 5, 5, 9, 1],\n",
       " [0, 3, 2, 8, 5, 8, 0, 5, 6, 1, 1, 9, 3, 8, 7],\n",
       " [0, 5, 5, 2, 4, 4, 8, 0, 7, 4, 6, 8, 7, 8, 5]]"
      ]
     },
     "execution_count": 61,
     "metadata": {},
     "output_type": "execute_result"
    }
   ],
   "source": [
    "mutate(poblacion,0.005,genetic_pool)\n",
    "poblacion[:10]"
   ]
  },
  {
   "cell_type": "code",
   "execution_count": 62,
   "metadata": {},
   "outputs": [
    {
     "data": {
      "text/plain": [
       "[<matplotlib.lines.Line2D at 0x1fc43d09e80>]"
      ]
     },
     "execution_count": 62,
     "metadata": {},
     "output_type": "execute_result"
    },
    {
     "data": {
      "image/png": "[encoded data removed]",
      "text/plain": [
       "<Figure size 432x288 with 1 Axes>"
      ]
     },
     "metadata": {
      "needs_background": "light"
     },
     "output_type": "display_data"
    }
   ],
   "source": [
    "for individuo in poblacion:\n",
    "    x = listToDecimal(individuo)\n",
    "    y = fx(x)\n",
    "    plt.plot(x,y,'x')\n",
    "plt.plot(x_axis,y_axis)"
   ]
  },
  {
   "cell_type": "markdown",
   "metadata": {},
   "source": [
    "No hay un gran cambio debido a que la probabilidad de mutar es baja, pero así es como tiene que mantenerse, de lo contrario sería imposible llegar a una solución. La mutación debe ser muy poco frecuente."
   ]
  },
  {
   "cell_type": "markdown",
   "metadata": {},
   "source": [
    "### Resultado final"
   ]
  },
  {
   "cell_type": "code",
   "execution_count": 63,
   "metadata": {},
   "outputs": [],
   "source": [
    "generaciones = 100\n",
    "\n",
    "for _ in range(generaciones):\n",
    "    \n",
    "    fitness =[]\n",
    "\n",
    "    #extraigo los valores de y para medir su éxito\n",
    "    for individuo in poblacion:\n",
    "        x = listToDecimal(individuo)\n",
    "        y = fx(x)\n",
    "        fitness += [y]\n",
    "\n",
    "    #convierto fitnees en un vector para realizar operaciones\n",
    "    #más fácilmente\n",
    "    fitness = np.array(fitness)\n",
    "\n",
    "    #divido todos los valores de y para la suma total\n",
    "    #y así obtener valores entre 0 y 1\n",
    "    fitness=fitness/fitness.sum()    \n",
    "        \n",
    "    \n",
    "    # se reproducen los mejores individuos\n",
    "    offspring = []\n",
    "    for i in range(size_poblacion//2):\n",
    "        parents = np.random.choice(size_poblacion, 2, p=fitness)\n",
    "        cross_point = np.random.randint(ind_size)\n",
    "        offspring += [poblacion[parents[0]][:cross_point] + poblacion[parents[1]][cross_point:]]\n",
    "        offspring += [poblacion[parents[1]][:cross_point] + poblacion[parents[0]][cross_point:]]    \n",
    "    \n",
    "    poblacion = offspring\n",
    "    \n",
    "    #####\n",
    "    # MUTACIONES\n",
    "    ####\n",
    "     \n",
    "    mutate(poblacion,0.005,genetic_pool)\n",
    "    "
   ]
  },
  {
   "cell_type": "code",
   "execution_count": 64,
   "metadata": {},
   "outputs": [
    {
     "data": {
      "text/plain": [
       "[<matplotlib.lines.Line2D at 0x1fc44e2f700>]"
      ]
     },
     "execution_count": 64,
     "metadata": {},
     "output_type": "execute_result"
    },
    {
     "data": {
      "image/png": "[encoded data removed]",
      "text/plain": [
       "<Figure size 432x288 with 1 Axes>"
      ]
     },
     "metadata": {
      "needs_background": "light"
     },
     "output_type": "display_data"
    }
   ],
   "source": [
    "for individuo in poblacion:\n",
    "    x = listToDecimal(individuo)\n",
    "    y = fx(x)\n",
    "    plt.plot(x,y,'x')\n",
    "plt.plot(x_axis,y_axis)"
   ]
  },
  {
   "cell_type": "markdown",
   "metadata": {},
   "source": [
    "Después de 100 generaciones podemos ver que la mayoría de los individuos se concentran en el valor máximo. Y si vemos el mejor individuo vamos a ver que su valor es cercano a 1."
   ]
  },
  {
   "cell_type": "code",
   "execution_count": 65,
   "metadata": {},
   "outputs": [
    {
     "data": {
      "text/plain": [
       "(array([77], dtype=int64),)"
      ]
     },
     "execution_count": 65,
     "metadata": {},
     "output_type": "execute_result"
    }
   ],
   "source": [
    "np.where(fitness == fitness.max())"
   ]
  },
  {
   "cell_type": "code",
   "execution_count": 66,
   "metadata": {},
   "outputs": [
    {
     "data": {
      "text/plain": [
       "0.9781946866898802"
      ]
     },
     "execution_count": 66,
     "metadata": {},
     "output_type": "execute_result"
    }
   ],
   "source": [
    "listToDecimal(poblacion[41])"
   ]
  },
  {
   "cell_type": "markdown",
   "metadata": {},
   "source": [
    "El mejor individuo tiene un valor de 0.97, así que tras pasarlo por la función nos da un resultado cercano al máximo."
   ]
  },
  {
   "cell_type": "code",
   "execution_count": 67,
   "metadata": {},
   "outputs": [
    {
     "data": {
      "text/plain": [
       "1.9911958858565655"
      ]
     },
     "execution_count": 67,
     "metadata": {},
     "output_type": "execute_result"
    }
   ],
   "source": [
    "fx(listToDecimal(poblacion[41]))"
   ]
  },
  {
   "cell_type": "markdown",
   "metadata": {},
   "source": [
    "Podríamos dejarlos reproducirse por unas cuántas generaciones más a ver si siguen avanzando hacia el máximo."
   ]
  },
  {
   "cell_type": "code",
   "execution_count": 68,
   "metadata": {},
   "outputs": [],
   "source": [
    "generaciones = 300\n",
    "\n",
    "for _ in range(generaciones):\n",
    "    \n",
    "    fitness =[]\n",
    "\n",
    "    #extraigo los valores de y para medir su éxito\n",
    "    for individuo in poblacion:\n",
    "        x = listToDecimal(individuo)\n",
    "        y = fx(x)\n",
    "        fitness += [y]\n",
    "\n",
    "    #convierto fitnees en un vector para realizar operaciones\n",
    "    #más fácilmente\n",
    "    fitness = np.array(fitness)\n",
    "\n",
    "    #divido todos los valores de y para la suma total\n",
    "    #y así obtener valores entre 0 y 1\n",
    "    fitness=fitness/fitness.sum()    \n",
    "        \n",
    "    \n",
    "    # se reproducen los mejores individuos\n",
    "    offspring = []\n",
    "    for i in range(size_poblacion//2):\n",
    "        parents = np.random.choice(size_poblacion, 2, p=fitness)\n",
    "        cross_point = np.random.randint(ind_size)\n",
    "        offspring += [poblacion[parents[0]][:cross_point] + poblacion[parents[1]][cross_point:]]\n",
    "        offspring += [poblacion[parents[1]][:cross_point] + poblacion[parents[0]][cross_point:]]    \n",
    "    \n",
    "    poblacion = offspring\n",
    "    \n",
    "    #####\n",
    "    # MUTACIONES\n",
    "    ####\n",
    "     \n",
    "    mutate(poblacion,0.005,genetic_pool)\n",
    "    "
   ]
  },
  {
   "cell_type": "code",
   "execution_count": 69,
   "metadata": {},
   "outputs": [
    {
     "data": {
      "text/plain": [
       "[<matplotlib.lines.Line2D at 0x1fc44facb50>]"
      ]
     },
     "execution_count": 69,
     "metadata": {},
     "output_type": "execute_result"
    },
    {
     "data": {
      "image/png": "[encoded data removed]",
      "text/plain": [
       "<Figure size 432x288 with 1 Axes>"
      ]
     },
     "metadata": {
      "needs_background": "light"
     },
     "output_type": "display_data"
    }
   ],
   "source": [
    "for individuo in poblacion:\n",
    "    x = listToDecimal(individuo)\n",
    "    y = fx(x)\n",
    "    plt.plot(x,y,'x')\n",
    "plt.plot(x_axis,y_axis)"
   ]
  },
  {
   "cell_type": "markdown",
   "metadata": {},
   "source": [
    "Después de 300 generaciones ya casi todos los individuos están cerca del máximo."
   ]
  },
  {
   "cell_type": "code",
   "execution_count": 70,
   "metadata": {},
   "outputs": [
    {
     "data": {
      "text/plain": [
       "0.9760763290831399"
      ]
     },
     "execution_count": 70,
     "metadata": {},
     "output_type": "execute_result"
    }
   ],
   "source": [
    "listToDecimal(poblacion[np.where(fitness == fitness.max())[0][0]])"
   ]
  },
  {
   "cell_type": "markdown",
   "metadata": {},
   "source": [
    "El mejor individuo sigue siendo sólo cercano a 1, pues su ADN no es muy estable y es imposible obtener el valor exacto de 1. Sin embargo, esto es posible con un ADN binario."
   ]
  },
  {
   "cell_type": "markdown",
   "metadata": {},
   "source": [
    "## Individuos con ADN binario"
   ]
  },
  {
   "cell_type": "markdown",
   "metadata": {},
   "source": [
    "Si hacemos que el ADN no represente números binarios, sino una división, entonces el individuo será mucho más estable. Como ya expliqué lo importante del algoritmo genético, no voy a detenerme mucho con este enfoque."
   ]
  },
  {
   "cell_type": "code",
   "execution_count": 71,
   "metadata": {},
   "outputs": [],
   "source": [
    "def bin_decimal(num_binario):\n",
    "    return (np.sum(num_binario)/len(num_binario))*2"
   ]
  },
  {
   "cell_type": "markdown",
   "metadata": {},
   "source": [
    "La función de arriba transforma una lista de números binarios en un número decimal que va desde 0 a 2. Cómo lo logra es bastante sencillo, suma todos los 1 del ADN y luego los divide para la longitud del ADN. Es muy similar al cálculo del fitness. Esto devuelve un número entre 0 y 1, si este número se multiplica por 2, ahora tenemos una forma de producir números entre 0 y 2."
   ]
  },
  {
   "cell_type": "code",
   "execution_count": 72,
   "metadata": {},
   "outputs": [
    {
     "data": {
      "text/plain": [
       "1.3333333333333333"
      ]
     },
     "execution_count": 72,
     "metadata": {},
     "output_type": "execute_result"
    }
   ],
   "source": [
    "#resultado de sumar todos los 1\n",
    "individuo = [0,1,1,1,1,0]\n",
    "bin_decimal(individuo)"
   ]
  },
  {
   "cell_type": "code",
   "execution_count": 73,
   "metadata": {},
   "outputs": [
    {
     "data": {
      "text/plain": [
       "1.3333333333333333"
      ]
     },
     "execution_count": 73,
     "metadata": {},
     "output_type": "execute_result"
    }
   ],
   "source": [
    "4/6 * 2"
   ]
  },
  {
   "cell_type": "markdown",
   "metadata": {},
   "source": [
    "Una vez hecho esto, todos los pasos de arriba se aplican de igual forma."
   ]
  },
  {
   "cell_type": "code",
   "execution_count": 74,
   "metadata": {},
   "outputs": [
    {
     "data": {
      "text/plain": [
       "[[0, 0, 0, 0, 0, 0, 1, 0, 1, 0, 1, 1, 1, 0, 0],\n",
       " [1, 1, 1, 1, 0, 0, 0, 0, 0, 0, 1, 1, 0, 1, 0],\n",
       " [1, 1, 1, 0, 1, 1, 0, 1, 1, 1, 0, 0, 0, 0, 0],\n",
       " [0, 1, 0, 0, 0, 0, 1, 0, 0, 0, 0, 1, 1, 1, 0],\n",
       " [1, 1, 1, 1, 0, 1, 0, 0, 0, 1, 0, 1, 1, 1, 1],\n",
       " [1, 1, 1, 0, 0, 1, 1, 0, 1, 1, 1, 1, 0, 0, 1],\n",
       " [1, 0, 0, 0, 1, 1, 0, 0, 1, 0, 0, 1, 1, 0, 0],\n",
       " [0, 1, 1, 1, 1, 1, 0, 0, 0, 0, 1, 0, 1, 0, 1],\n",
       " [1, 0, 0, 1, 1, 0, 0, 0, 1, 1, 1, 1, 1, 0, 0],\n",
       " [0, 1, 0, 0, 1, 0, 0, 1, 0, 1, 0, 0, 1, 1, 0]]"
      ]
     },
     "execution_count": 74,
     "metadata": {},
     "output_type": "execute_result"
    }
   ],
   "source": [
    "poblacion = []\n",
    "genetic_pool = [0,1]\n",
    "for i in range(100):\n",
    "    individuo = list(np.random.choice(genetic_pool,15))\n",
    "    poblacion.append(individuo)\n",
    "poblacion[:10]"
   ]
  },
  {
   "cell_type": "code",
   "execution_count": 75,
   "metadata": {},
   "outputs": [
    {
     "data": {
      "text/plain": [
       "[<matplotlib.lines.Line2D at 0x1fc451440a0>]"
      ]
     },
     "execution_count": 75,
     "metadata": {},
     "output_type": "execute_result"
    },
    {
     "data": {
      "image/png": "[encoded data removed]",
      "text/plain": [
       "<Figure size 432x288 with 1 Axes>"
      ]
     },
     "metadata": {
      "needs_background": "light"
     },
     "output_type": "display_data"
    }
   ],
   "source": [
    "for individuo in poblacion:\n",
    "    x = bin_decimal(individuo)\n",
    "    y = fx(x)\n",
    "    plt.plot(x,y,'x')\n",
    "plt.plot(x_axis,y_axis)"
   ]
  },
  {
   "cell_type": "markdown",
   "metadata": {},
   "source": [
    "A partir de este punto podrás hacerlo bien."
   ]
  },
  {
   "cell_type": "code",
   "execution_count": null,
   "metadata": {},
   "outputs": [],
   "source": []
  }
 ],
 "metadata": {
  "kernelspec": {
   "display_name": "Python 3",
   "language": "python",
   "name": "python3"
  },
  "language_info": {
   "codemirror_mode": {
    "name": "ipython",
    "version": 3
   },
   "file_extension": ".py",
   "mimetype": "text/x-python",
   "name": "python",
   "nbconvert_exporter": "python",
   "pygments_lexer": "ipython3",
   "version": "3.8.5"
  }
 },
 "nbformat": 4,
 "nbformat_minor": 4
}
