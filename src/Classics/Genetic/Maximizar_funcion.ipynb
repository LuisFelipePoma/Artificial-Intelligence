{
 "cells": [
  {
   "cell_type": "markdown",
   "metadata": {},
   "source": [
    "# Maximizar una función"
   ]
  },
  {
   "cell_type": "markdown",
   "metadata": {},
   "source": [
    "Fuente: \n",
    "\n",
    "https://www.youtube.com/watch?v=_ZxrvAi0Mk0\n",
    "\n",
    "https://github.com/danielTeniente/ia-projects\n",
    "\n",
    "\n",
    "Hoy voy a explicar dos enfoques de algoritmos genéticos para maximizar una función no lineal. Este problema fue el primero que resolví con algoritmos genéticos y fue toda una experiencia."
   ]
  },
  {
   "cell_type": "code",
   "execution_count": null,
   "metadata": {},
   "outputs": [],
   "source": [
    "#importo las bibliotecas necesarias\n",
    "import matplotlib.pyplot as plt\n",
    "import numpy as np\n",
    "import math"
   ]
  },
  {
   "cell_type": "markdown",
   "metadata": {},
   "source": [
    "## El problema"
   ]
  },
  {
   "cell_type": "markdown",
   "metadata": {},
   "source": [
    "Debemos encontrar el valor de $x$ que maximice el valor de $y$ en la siguiente función."
   ]
  },
  {
   "cell_type": "code",
   "execution_count": null,
   "metadata": {},
   "outputs": [],
   "source": [
    "def fx(x):\n",
    "    return -(0.1+(1-x)**2-0.1*math.cos(6*math.pi*(1-x)))+2"
   ]
  },
  {
   "cell_type": "code",
   "execution_count": null,
   "metadata": {},
   "outputs": [],
   "source": [
    "y_axis = []\n",
    "x_axis=np.arange(0,2,0.02)\n",
    "\n",
    "for num in x_axis:\n",
    "    y_axis.append(fx(num))\n"
   ]
  },
  {
   "cell_type": "code",
   "execution_count": null,
   "metadata": {},
   "outputs": [],
   "source": [
    "plt.plot(x_axis,y_axis)"
   ]
  },
  {
   "cell_type": "markdown",
   "metadata": {},
   "source": [
    "Como se puede observar arriba, la función tiene varios máximos y mínimos locales. El objetivo es llegar al punto más alto que se encuentra en $x=1$."
   ]
  },
  {
   "cell_type": "markdown",
   "metadata": {},
   "source": [
    "Aquí realicé dos enfoques, uno donde los genes se representan mediante números decimales y otro donde se representan mediante código binario. Esto produce resultados interesantes, pero lo importante es entender los componentes principales del algoritmo genético. Así que avanzaré primero con el enfoque más obvio y luego pasaré al código binario."
   ]
  },
  {
   "cell_type": "markdown",
   "metadata": {},
   "source": [
    "## Algoritmos genéticos"
   ]
  },
  {
   "cell_type": "markdown",
   "metadata": {},
   "source": [
    "### Representación de los genes"
   ]
  },
  {
   "cell_type": "markdown",
   "metadata": {},
   "source": [
    "Primero, tenemos que planificar qué representan los genes de nuestros individuos. Los genes deben tener la capacidad de resolver el problema, aunque no lo hagan de forma inmediata; y su efectividad debe poder medirse con precisión."
   ]
  },
  {
   "cell_type": "code",
   "execution_count": null,
   "metadata": {},
   "outputs": [],
   "source": [
    "#individuo de ejemplo \n",
    "x = 0.54\n",
    "y = fx(x)"
   ]
  },
  {
   "cell_type": "code",
   "execution_count": null,
   "metadata": {},
   "outputs": [],
   "source": [
    "plt.plot(x_axis,y_axis)\n",
    "plt.plot(x,y,'x')"
   ]
  },
  {
   "cell_type": "markdown",
   "metadata": {},
   "source": [
    "El individuo de ejemplo se encuentra representado por una x en el gráfico superior. Así que nuestra población debe estar compuesta por números que van desde $0$ hasta $2$. Sabiendo esto, nuestros genes pueden representar valores decimales de ese número."
   ]
  },
  {
   "cell_type": "code",
   "execution_count": null,
   "metadata": {},
   "outputs": [],
   "source": [
    "#individuo de ejemplo \n",
    "#x = 0.54\n",
    "x = [0,5,4]"
   ]
  },
  {
   "cell_type": "markdown",
   "metadata": {},
   "source": [
    "Necesitamos representar los genes como una lista para poder realizar la mutación y el entrecruzamiento. Así que debemos manejar una función que convierta una lista en números decimales."
   ]
  },
  {
   "cell_type": "code",
   "execution_count": null,
   "metadata": {},
   "outputs": [],
   "source": [
    "def listToDecimal(num):\n",
    "    decimal=0\n",
    "    for i in range(len(num)):\n",
    "        decimal+=num[i]*10**(-i)\n",
    "    return decimal"
   ]
  },
  {
   "cell_type": "code",
   "execution_count": null,
   "metadata": {},
   "outputs": [],
   "source": [
    "listToDecimal(x)"
   ]
  },
  {
   "cell_type": "markdown",
   "metadata": {},
   "source": [
    "Para hacer esto más interesante me gustaría manejar individuos con un código genético más grande, así que voy a definir un `ind_size` con el cual generaré un primer código genético aleatorio. "
   ]
  },
  {
   "cell_type": "code",
   "execution_count": null,
   "metadata": {},
   "outputs": [],
   "source": [
    "ind_size = 15\n",
    "#Genetic pool\n",
    "genetic_pool=[[0,1],[0,1,2,3,4,5,6,7,8,9]]\n",
    "\n",
    "individuo = []\n",
    "individuo += [np.random.choice(genetic_pool[0])]\n",
    "individuo += list(np.random.choice(genetic_pool[1],ind_size-1))\n",
    "\n",
    "individuo"
   ]
  },
  {
   "cell_type": "markdown",
   "metadata": {},
   "source": [
    "Acabo de generar un individuo cuyo código genético está compuesto de 15 genes. Estos genes fueron elegidots de un `genetic_pool` que representa todos los valores que pueden tomar los genes.  \n",
    "Ya que nuestro individuo está definido entre 0 y 2, decidí colocar un pool distinto donde sólo puede tomar `[0,1]` para la parte entera, si llegase a tomar `2` es muy probable que se salga del rango. La parte decimal utiliza un pool de 0 a 9, así que el valor máximo que puede tomar el individuo es $1.9999...$ y el mínimo $0.0000...$"
   ]
  },
  {
   "cell_type": "code",
   "execution_count": null,
   "metadata": {},
   "outputs": [],
   "source": [
    "listToDecimal(individuo)"
   ]
  },
  {
   "cell_type": "markdown",
   "metadata": {},
   "source": [
    "Al convertir la lista en decimal podemos notar una pequeña variación al final debido a la forma en que python realiza la suma de punto flotante, pero nada de mucho peso."
   ]
  },
  {
   "cell_type": "code",
   "execution_count": null,
   "metadata": {},
   "outputs": [],
   "source": [
    "poblacion = []\n",
    "\n",
    "for i in range(100):\n",
    "    individuo = []\n",
    "    individuo += [np.random.choice(genetic_pool[0])]\n",
    "    individuo += list(np.random.choice(genetic_pool[1],ind_size-1))\n",
    "    poblacion.append(individuo)\n",
    "poblacion[:10]"
   ]
  },
  {
   "cell_type": "markdown",
   "metadata": {},
   "source": [
    "Finalmente, genero una población llena de individuos con genes aleatorios. De esta población vamos a elegir los mejores para reproducirlos.  \n",
    "Abajo observarás cómo se encuentra repartida la población."
   ]
  },
  {
   "cell_type": "code",
   "execution_count": null,
   "metadata": {},
   "outputs": [],
   "source": [
    "for individuo in poblacion:\n",
    "    x = listToDecimal(individuo)\n",
    "    y = fx(x)\n",
    "    plt.plot(x,y,'x')\n",
    "plt.plot(x_axis,y_axis)"
   ]
  },
  {
   "cell_type": "markdown",
   "metadata": {},
   "source": [
    "### Medición del éxito"
   ]
  },
  {
   "cell_type": "markdown",
   "metadata": {},
   "source": [
    "Esto se suele llamar fitness. Aquí vamos a medir el éxito del individuo para cumplir con el objetivo y determinar la probabilidad que tendrá de reproducirse.  \n",
    "Ya que queremos maximizar una función, aquellos individuos que produzcan un valor más alto en $y$ serán seleccionados como los mejores."
   ]
  },
  {
   "cell_type": "code",
   "execution_count": null,
   "metadata": {},
   "outputs": [],
   "source": [
    "fitness =[]\n",
    "\n",
    "#extraigo los valores de y para medir su éxito\n",
    "for individuo in poblacion:\n",
    "    x = listToDecimal(individuo)\n",
    "    y = fx(x)\n",
    "    fitness += [y]\n",
    "    \n",
    "#convierto fitnees en un vector para realizar operaciones\n",
    "#más fácilmente\n",
    "fitness = np.array(fitness)\n",
    "\n",
    "#divido todos los valores de y para la suma total\n",
    "#y así obtener valores entre 0 y 1\n",
    "fitness=fitness/fitness.sum()"
   ]
  },
  {
   "cell_type": "code",
   "execution_count": null,
   "metadata": {},
   "outputs": [],
   "source": [
    "fitness"
   ]
  },
  {
   "cell_type": "markdown",
   "metadata": {},
   "source": [
    "Todos los valores de $y$ se dividen entre la suma total para obtener una probabilidad. La operación realizada arriba sirve para representar porcentajes. Por ejemplo, si tengo dos números: `[8,5]`, cuando los divido para la suma obtengo el porcentaje que representan del total:"
   ]
  },
  {
   "cell_type": "code",
   "execution_count": null,
   "metadata": {},
   "outputs": [],
   "source": [
    "array = np.array([8,5])\n",
    "array = array/array.sum()\n",
    "array"
   ]
  },
  {
   "cell_type": "markdown",
   "metadata": {},
   "source": [
    "Si trabajo con números que sumen diez será más fácil visualizarlo. "
   ]
  },
  {
   "cell_type": "code",
   "execution_count": null,
   "metadata": {},
   "outputs": [],
   "source": [
    "array = np.array([8,2])\n",
    "array = array/array.sum()\n",
    "array"
   ]
  },
  {
   "cell_type": "markdown",
   "metadata": {},
   "source": [
    "Los números más grandes producen un porcentaje mayor, y ya que la probabilidad se mide entre 0 y 1, esto ya nos permite darle una probabilidad mayor de reproducirse a los mejores individuos, aquellos que obtuvieron números más grandes en $y$."
   ]
  },
  {
   "cell_type": "markdown",
   "metadata": {},
   "source": [
    "### Entrecruzamiento"
   ]
  },
  {
   "cell_type": "markdown",
   "metadata": {},
   "source": [
    "El entrecruzamiento consiste en mezclar los genes de los mejores individuos. En este caso vamos a elegir dos padres al azar, de acuerdo a la probabilidad del fitness, para que produzcan un nuevo individuo.  \n",
    "Es importante no descartar de lleno a los peores individuos ya que, tal vez, su código genético puede servir para lograr algo mejor más tarde.  \n",
    "Luego, se elige un `cross_point` a partir del cual se van a combinar los genes de los padres. Se va a copiar los genes del primer padre hasta este punto, y luego los genes del otro padre."
   ]
  },
  {
   "cell_type": "code",
   "execution_count": null,
   "metadata": {},
   "outputs": [],
   "source": [
    "size_poblacion = len(poblacion)\n",
    "#hijos\n",
    "offspring = []\n",
    "for i in range(size_poblacion//2):\n",
    "    parents = np.random.choice(size_poblacion, 2, p=fitness)\n",
    "    cross_point = np.random.randint(ind_size)\n",
    "    offspring += [poblacion[parents[0]][:cross_point] + poblacion[parents[1]][cross_point:]]\n",
    "    offspring += [poblacion[parents[1]][:cross_point] + poblacion[parents[0]][cross_point:]]"
   ]
  },
  {
   "cell_type": "code",
   "execution_count": null,
   "metadata": {},
   "outputs": [],
   "source": [
    "offspring[:10]"
   ]
  },
  {
   "cell_type": "code",
   "execution_count": null,
   "metadata": {},
   "outputs": [],
   "source": [
    "poblacion = offspring\n",
    "for individuo in poblacion:\n",
    "    x = listToDecimal(individuo)\n",
    "    y = fx(x)\n",
    "    plt.plot(x,y,'x')\n",
    "plt.plot(x_axis,y_axis)"
   ]
  },
  {
   "cell_type": "markdown",
   "metadata": {},
   "source": [
    "En una sola generación podemos ver que los individuos ya se están concentrando en puntos más altos de la función. A medida que pasen las generaciones el objetivo es que todos los individuos convergan alrededor de 1."
   ]
  },
  {
   "cell_type": "markdown",
   "metadata": {},
   "source": [
    "### Mutaciones"
   ]
  },
  {
   "cell_type": "markdown",
   "metadata": {},
   "source": [
    "Otro aspecto interesante del algoritmo genético es la probabilidad de que se produzca una mutación en los individuos. Lo que significa que el ADN de cualquier individuo puede producir un gen que no viene de sus padres.  \n",
    "El individuo `[0,5,3,8,9]` puede mutar a `[0,5,4,8,9]` y esto mantiene la puerta abierta hacia el mejoramiento de la población."
   ]
  },
  {
   "cell_type": "code",
   "execution_count": null,
   "metadata": {},
   "outputs": [],
   "source": [
    "def mutate(individuals, prob, pool):\n",
    "    for i in range(len(individuals)):\n",
    "        mutate_individual=individuals[i]\n",
    "        if np.random.random() < prob:\n",
    "            mutation = np.random.choice(pool[0])\n",
    "            mutate_individual = [mutation] + mutate_individual[1:]\n",
    "        \n",
    "        for j in range(1,len(mutate_individual)):\n",
    "            if np.random.random() < prob:\n",
    "                mutation = np.random.choice(pool[1])\n",
    "                mutate_individual = mutate_individual[0:j] + [mutation] + mutate_individual[j+1:]\n",
    "        individuals[i] = mutate_individual"
   ]
  },
  {
   "cell_type": "code",
   "execution_count": null,
   "metadata": {},
   "outputs": [],
   "source": [
    "mutate(poblacion,0.005,genetic_pool)\n",
    "poblacion[:10]"
   ]
  },
  {
   "cell_type": "code",
   "execution_count": null,
   "metadata": {},
   "outputs": [],
   "source": [
    "for individuo in poblacion:\n",
    "    x = listToDecimal(individuo)\n",
    "    y = fx(x)\n",
    "    plt.plot(x,y,'x')\n",
    "plt.plot(x_axis,y_axis)"
   ]
  },
  {
   "cell_type": "markdown",
   "metadata": {},
   "source": [
    "No hay un gran cambio debido a que la probabilidad de mutar es baja, pero así es como tiene que mantenerse, de lo contrario sería imposible llegar a una solución. La mutación debe ser muy poco frecuente."
   ]
  },
  {
   "cell_type": "markdown",
   "metadata": {},
   "source": [
    "### Resultado final"
   ]
  },
  {
   "cell_type": "code",
   "execution_count": null,
   "metadata": {},
   "outputs": [],
   "source": [
    "generaciones = 100\n",
    "\n",
    "for _ in range(generaciones):\n",
    "    \n",
    "    fitness =[]\n",
    "\n",
    "    #extraigo los valores de y para medir su éxito\n",
    "    for individuo in poblacion:\n",
    "        x = listToDecimal(individuo)\n",
    "        y = fx(x)\n",
    "        fitness += [y]\n",
    "\n",
    "    #convierto fitnees en un vector para realizar operaciones\n",
    "    #más fácilmente\n",
    "    fitness = np.array(fitness)\n",
    "\n",
    "    #divido todos los valores de y para la suma total\n",
    "    #y así obtener valores entre 0 y 1\n",
    "    fitness=fitness/fitness.sum()    \n",
    "        \n",
    "    \n",
    "    # se reproducen los mejores individuos\n",
    "    offspring = []\n",
    "    for i in range(size_poblacion//2):\n",
    "        parents = np.random.choice(size_poblacion, 2, p=fitness)\n",
    "        cross_point = np.random.randint(ind_size)\n",
    "        offspring += [poblacion[parents[0]][:cross_point] + poblacion[parents[1]][cross_point:]]\n",
    "        offspring += [poblacion[parents[1]][:cross_point] + poblacion[parents[0]][cross_point:]]    \n",
    "    \n",
    "    poblacion = offspring\n",
    "    \n",
    "    #####\n",
    "    # MUTACIONES\n",
    "    ####\n",
    "     \n",
    "    mutate(poblacion,0.005,genetic_pool)\n",
    "    "
   ]
  },
  {
   "cell_type": "code",
   "execution_count": null,
   "metadata": {},
   "outputs": [],
   "source": [
    "for individuo in poblacion:\n",
    "    x = listToDecimal(individuo)\n",
    "    y = fx(x)\n",
    "    plt.plot(x,y,'x')\n",
    "plt.plot(x_axis,y_axis)"
   ]
  },
  {
   "cell_type": "markdown",
   "metadata": {},
   "source": [
    "Después de 100 generaciones podemos ver que la mayoría de los individuos se concentran en el valor máximo. Y si vemos el mejor individuo vamos a ver que su valor es cercano a 1."
   ]
  },
  {
   "cell_type": "code",
   "execution_count": null,
   "metadata": {},
   "outputs": [],
   "source": [
    "np.where(fitness == fitness.max())"
   ]
  },
  {
   "cell_type": "code",
   "execution_count": null,
   "metadata": {},
   "outputs": [],
   "source": [
    "listToDecimal(poblacion[41])"
   ]
  },
  {
   "cell_type": "markdown",
   "metadata": {},
   "source": [
    "El mejor individuo tiene un valor de 0.97, así que tras pasarlo por la función nos da un resultado cercano al máximo."
   ]
  },
  {
   "cell_type": "code",
   "execution_count": null,
   "metadata": {},
   "outputs": [],
   "source": [
    "fx(listToDecimal(poblacion[41]))"
   ]
  },
  {
   "cell_type": "markdown",
   "metadata": {},
   "source": [
    "Podríamos dejarlos reproducirse por unas cuántas generaciones más a ver si siguen avanzando hacia el máximo."
   ]
  },
  {
   "cell_type": "code",
   "execution_count": null,
   "metadata": {},
   "outputs": [],
   "source": [
    "generaciones = 300\n",
    "\n",
    "for _ in range(generaciones):\n",
    "    \n",
    "    fitness =[]\n",
    "\n",
    "    #extraigo los valores de y para medir su éxito\n",
    "    for individuo in poblacion:\n",
    "        x = listToDecimal(individuo)\n",
    "        y = fx(x)\n",
    "        fitness += [y]\n",
    "\n",
    "    #convierto fitnees en un vector para realizar operaciones\n",
    "    #más fácilmente\n",
    "    fitness = np.array(fitness)\n",
    "\n",
    "    #divido todos los valores de y para la suma total\n",
    "    #y así obtener valores entre 0 y 1\n",
    "    fitness=fitness/fitness.sum()    \n",
    "        \n",
    "    \n",
    "    # se reproducen los mejores individuos\n",
    "    offspring = []\n",
    "    for i in range(size_poblacion//2):\n",
    "        parents = np.random.choice(size_poblacion, 2, p=fitness)\n",
    "        cross_point = np.random.randint(ind_size)\n",
    "        offspring += [poblacion[parents[0]][:cross_point] + poblacion[parents[1]][cross_point:]]\n",
    "        offspring += [poblacion[parents[1]][:cross_point] + poblacion[parents[0]][cross_point:]]    \n",
    "    \n",
    "    poblacion = offspring\n",
    "    \n",
    "    #####\n",
    "    # MUTACIONES\n",
    "    ####\n",
    "     \n",
    "    mutate(poblacion,0.005,genetic_pool)\n",
    "    "
   ]
  },
  {
   "cell_type": "code",
   "execution_count": null,
   "metadata": {},
   "outputs": [],
   "source": [
    "for individuo in poblacion:\n",
    "    x = listToDecimal(individuo)\n",
    "    y = fx(x)\n",
    "    plt.plot(x,y,'x')\n",
    "plt.plot(x_axis,y_axis)"
   ]
  },
  {
   "cell_type": "markdown",
   "metadata": {},
   "source": [
    "Después de 300 generaciones ya casi todos los individuos están cerca del máximo."
   ]
  },
  {
   "cell_type": "code",
   "execution_count": null,
   "metadata": {},
   "outputs": [],
   "source": [
    "listToDecimal(poblacion[np.where(fitness == fitness.max())[0][0]])"
   ]
  },
  {
   "cell_type": "markdown",
   "metadata": {},
   "source": [
    "El mejor individuo sigue siendo sólo cercano a 1, pues su ADN no es muy estable y es imposible obtener el valor exacto de 1. Sin embargo, esto es posible con un ADN binario."
   ]
  },
  {
   "cell_type": "markdown",
   "metadata": {},
   "source": [
    "## Individuos con ADN binario"
   ]
  },
  {
   "cell_type": "markdown",
   "metadata": {},
   "source": [
    "Si hacemos que el ADN no represente números binarios, sino una división, entonces el individuo será mucho más estable. Como ya expliqué lo importante del algoritmo genético, no voy a detenerme mucho con este enfoque."
   ]
  },
  {
   "cell_type": "code",
   "execution_count": null,
   "metadata": {},
   "outputs": [],
   "source": [
    "def bin_decimal(num_binario):\n",
    "    return (np.sum(num_binario)/len(num_binario))*2"
   ]
  },
  {
   "cell_type": "markdown",
   "metadata": {},
   "source": [
    "La función de arriba transforma una lista de números binarios en un número decimal que va desde 0 a 2. Cómo lo logra es bastante sencillo, suma todos los 1 del ADN y luego los divide para la longitud del ADN. Es muy similar al cálculo del fitness. Esto devuelve un número entre 0 y 1, si este número se multiplica por 2, ahora tenemos una forma de producir números entre 0 y 2."
   ]
  },
  {
   "cell_type": "code",
   "execution_count": null,
   "metadata": {},
   "outputs": [],
   "source": [
    "#resultado de sumar todos los 1\n",
    "individuo = [0,1,1,1,1,0]\n",
    "bin_decimal(individuo)"
   ]
  },
  {
   "cell_type": "code",
   "execution_count": null,
   "metadata": {},
   "outputs": [],
   "source": [
    "4/6 * 2"
   ]
  },
  {
   "cell_type": "markdown",
   "metadata": {},
   "source": [
    "Una vez hecho esto, todos los pasos de arriba se aplican de igual forma."
   ]
  },
  {
   "cell_type": "code",
   "execution_count": null,
   "metadata": {},
   "outputs": [],
   "source": [
    "poblacion = []\n",
    "genetic_pool = [0,1]\n",
    "for i in range(100):\n",
    "    individuo = list(np.random.choice(genetic_pool,15))\n",
    "    poblacion.append(individuo)\n",
    "poblacion[:10]"
   ]
  },
  {
   "cell_type": "code",
   "execution_count": null,
   "metadata": {},
   "outputs": [],
   "source": [
    "for individuo in poblacion:\n",
    "    x = bin_decimal(individuo)\n",
    "    y = fx(x)\n",
    "    plt.plot(x,y,'x')\n",
    "plt.plot(x_axis,y_axis)"
   ]
  },
  {
   "cell_type": "markdown",
   "metadata": {},
   "source": [
    "A partir de este punto podrás hacerlo bien."
   ]
  },
  {
   "cell_type": "code",
   "execution_count": null,
   "metadata": {},
   "outputs": [],
   "source": []
  }
 ],
 "metadata": {
  "kernelspec": {
   "display_name": "Python 3",
   "language": "python",
   "name": "python3"
  },
  "language_info": {
   "codemirror_mode": {
    "name": "ipython",
    "version": 3
   },
   "file_extension": ".py",
   "mimetype": "text/x-python",
   "name": "python",
   "nbconvert_exporter": "python",
   "pygments_lexer": "ipython3",
   "version": "3.8.5"
  }
 },
 "nbformat": 4,
 "nbformat_minor": 4
}
