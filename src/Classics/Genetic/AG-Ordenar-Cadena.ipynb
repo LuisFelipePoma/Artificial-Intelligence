{
 "cells": [
  {
   "cell_type": "markdown",
   "metadata": {},
   "source": [
    "### Algoritmo Genético - Ejemplo #3"
   ]
  },
  {
   "cell_type": "code",
   "execution_count": null,
   "metadata": {},
   "outputs": [],
   "source": [
    "# Crear una cadena de destino, comenzando desde una cadena aleatoria usando algoritmo genético"
   ]
  },
  {
   "cell_type": "code",
   "execution_count": null,
   "metadata": {},
   "outputs": [],
   "source": [
    "import random"
   ]
  },
  {
   "cell_type": "code",
   "execution_count": null,
   "metadata": {},
   "outputs": [],
   "source": [
    "# Número de individuos en cada generación\n",
    "POPULATION_SIZE = 100"
   ]
  },
  {
   "cell_type": "code",
   "execution_count": null,
   "metadata": {},
   "outputs": [],
   "source": [
    "#Genes válidos\n",
    "GENES = '''abcdefghijklmnopqrstuvwxyzABCDEFGHIJKLMNOP\n",
    "QRSTUVWXYZ 1234567890, .-;:_!\"#%&/()=?@${[]}'''"
   ]
  },
  {
   "cell_type": "code",
   "execution_count": null,
   "metadata": {},
   "outputs": [],
   "source": [
    "# Cadena de destino que se generará\n",
    "TARGET = \"Pablito clavo un clavito\""
   ]
  },
  {
   "cell_type": "code",
   "execution_count": null,
   "metadata": {},
   "outputs": [],
   "source": [
    "class Individual(object):\n",
    "    '''\n",
    "    Clase que representa al individuo en la población\n",
    "    '''\n",
    "    def __init__(self, chromosome):\n",
    "        self.chromosome = chromosome \n",
    "        self.fitness = self.cal_fitness()\n",
    "  \n",
    "    @classmethod\n",
    "    def mutated_genes(self):\n",
    "        '''\n",
    "        crear genes aleatorios para la mutación\n",
    "        '''\n",
    "        global GENES\n",
    "        gene = random.choice(GENES)\n",
    "        return gene\n",
    "  \n",
    "    @classmethod\n",
    "    def create_gnome(self):\n",
    "        '''\n",
    "        crear un cromosoma o cadena de genes\n",
    "        '''\n",
    "        global TARGET\n",
    "        gnome_len = len(TARGET)\n",
    "        return [self.mutated_genes() for _ in range(gnome_len)]\n",
    "  \n",
    "    def mate(self, par2):\n",
    "        '''\n",
    "        Realizar apareamiento y producir nueva descendencia\n",
    "        '''\n",
    "  \n",
    "        # cromosoma para la descendencia\n",
    "        child_chromosome = []\n",
    "        for gp1, gp2 in zip(self.chromosome, par2.chromosome):    \n",
    "  \n",
    "            # probabilidad aleatoria\n",
    "            prob = random.random()\n",
    "  \n",
    "            # si prob es menor que 0.45, insertar gen\n",
    "            # del padre 1 \n",
    "            if prob < 0.45:\n",
    "                child_chromosome.append(gp1)\n",
    "  \n",
    "            # si prob esta entre 0.45 y 0.90, insertar gen\n",
    "            # del padre 2\n",
    "            elif prob < 0.90:\n",
    "                child_chromosome.append(gp2)\n",
    "  \n",
    "            # de lo contrario, insertar un gen aleatorio (mutado),\n",
    "            # para mantener la diversidad\n",
    "            else:\n",
    "                child_chromosome.append(self.mutated_genes())\n",
    "  \n",
    "        # crear un nuevo individuo (descendencia) usando\n",
    "        # cromosoma generado para la descendencia\n",
    "        return Individual(child_chromosome)\n",
    "  \n",
    "    def cal_fitness(self):\n",
    "        '''\n",
    "        Calcular la puntuación de aptitud, es el número de caracteres \n",
    "        en la cadena origen que difieren de la cadena de destino\n",
    "        '''\n",
    "        global TARGET\n",
    "        fitness = 0\n",
    "        for gs, gt in zip(self.chromosome, TARGET):\n",
    "            if gs != gt: fitness+= 1\n",
    "        return fitness"
   ]
  },
  {
   "cell_type": "code",
   "execution_count": null,
   "metadata": {},
   "outputs": [],
   "source": [
    "# Código principal\n",
    "def main():\n",
    "    global POPULATION_SIZE\n",
    "  \n",
    "    #la generación actual\n",
    "    generation = 1\n",
    "  \n",
    "    found = False\n",
    "    population = []\n",
    "  \n",
    "    # crear población inicial\n",
    "    for _ in range(POPULATION_SIZE):\n",
    "                gnome = Individual.create_gnome()\n",
    "                population.append(Individual(gnome))\n",
    "  \n",
    "    while not found:\n",
    "  \n",
    "        # ordenar la población en orden creciente de puntuación de aptitud física\n",
    "        population = sorted(population, key = lambda x:x.fitness)\n",
    "  \n",
    "        # si el individuo alcanza el puntaje de aptitud más bajo, es decir.\n",
    "        # 0 entonces sabemos que hemos llegado al objetivo\n",
    "        # y romper el bucle\n",
    "        if population[0].fitness <= 0:\n",
    "            found = True\n",
    "            break\n",
    "  \n",
    "        # De lo contrario, se generan nuevos descendientes para la nueva generación\n",
    "        new_generation = []\n",
    "  \n",
    "        # Realizar elitismo, lo que significa que el 10% de la población más apta\n",
    "        # pasa a la siguiente generación\n",
    "        s = int((10*POPULATION_SIZE)/100)\n",
    "        new_generation.extend(population[:s])\n",
    "  \n",
    "        # Del 50% de la población más apta, los individuos\n",
    "        # se aparearán para producir descendencia\n",
    "        s = int((90*POPULATION_SIZE)/100)\n",
    "        for _ in range(s):\n",
    "            parent1 = random.choice(population[:50])\n",
    "            parent2 = random.choice(population[:50])\n",
    "            child = parent1.mate(parent2)\n",
    "            new_generation.append(child)\n",
    "  \n",
    "        population = new_generation\n",
    "  \n",
    "        print(\"Generación: {}\\tString: {}\\tFitness: {}\".\\\n",
    "              format(generation,\n",
    "              \"\".join(population[0].chromosome),\n",
    "              population[0].fitness))\n",
    "  \n",
    "        generation += 1\n",
    "  \n",
    "      \n",
    "    print(\"Generación: {}\\tString: {}\\tFitness: {}\".\\\n",
    "          format(generation,\n",
    "          \"\".join(population[0].chromosome),\n",
    "          population[0].fitness))"
   ]
  },
  {
   "cell_type": "code",
   "execution_count": null,
   "metadata": {},
   "outputs": [],
   "source": [
    "# Ejecutamos el codigo\n",
    "main()"
   ]
  }
 ],
 "metadata": {
  "kernelspec": {
   "display_name": "Python 3 (ipykernel)",
   "language": "python",
   "name": "python3"
  },
  "language_info": {
   "codemirror_mode": {
    "name": "ipython",
    "version": 3
   },
   "file_extension": ".py",
   "mimetype": "text/x-python",
   "name": "python",
   "nbconvert_exporter": "python",
   "pygments_lexer": "ipython3",
   "version": "3.8.12"
  }
 },
 "nbformat": 4,
 "nbformat_minor": 4
}
